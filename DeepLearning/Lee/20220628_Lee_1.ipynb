{
 "cells": [
  {
   "cell_type": "code",
   "execution_count": 6,
   "metadata": {},
   "outputs": [],
   "source": [
    "import tensorflow\n",
    "import warnings\n",
    "warnings.filterwarnings(\"ignore\")"
   ]
  },
  {
   "cell_type": "code",
   "execution_count": 15,
   "metadata": {},
   "outputs": [],
   "source": [
    "import sklearn"
   ]
  },
  {
   "cell_type": "code",
   "execution_count": 17,
   "metadata": {},
   "outputs": [],
   "source": [
    "from tensorflow import keras\n",
    "from keras.datasets import mnist"
   ]
  },
  {
   "cell_type": "code",
   "execution_count": 18,
   "metadata": {},
   "outputs": [],
   "source": [
    "(X_train, y_train),(X_test,y_test) = mnist.load_data()"
   ]
  },
  {
   "cell_type": "code",
   "execution_count": 23,
   "metadata": {},
   "outputs": [],
   "source": [
    "y_train = keras.utils.to_categorical(y_train)\n",
    "y_test = keras.utils.to_categorical(y_test)"
   ]
  },
  {
   "cell_type": "code",
   "execution_count": 24,
   "metadata": {},
   "outputs": [],
   "source": [
    "input_shape = X_train.shape[1:]"
   ]
  },
  {
   "cell_type": "code",
   "execution_count": 32,
   "metadata": {},
   "outputs": [],
   "source": [
    "output_shape = y_train.shape[-1]"
   ]
  },
  {
   "cell_type": "code",
   "execution_count": 20,
   "metadata": {},
   "outputs": [],
   "source": [
    "from keras.models import Sequential\n",
    "from keras.layers import Flatten, Dense"
   ]
  },
  {
   "cell_type": "code",
   "execution_count": 128,
   "metadata": {},
   "outputs": [],
   "source": [
    "active['layer3'] = 'sigmoid'"
   ]
  },
  {
   "cell_type": "code",
   "execution_count": 126,
   "metadata": {},
   "outputs": [],
   "source": [
    "active = {\"layer\"+str(i+2):'relu' for i in range(6)}"
   ]
  },
  {
   "cell_type": "code",
   "execution_count": 129,
   "metadata": {},
   "outputs": [],
   "source": [
    "model = Sequential(\n",
    "    [\n",
    "        Flatten(input_shape=(input_shape)),\n",
    "        Dense(1024,activation='relu'),\n",
    "        Dense(512,activation='sigmoid'),\n",
    "        Dense(256,activation='relu'),\n",
    "        Dense(128,activation='sigmoid'),\n",
    "        Dense(64,activation='sigmoid'),\n",
    "        Dense(output_shape,activation='softmax')\n",
    "    ]\n",
    ")"
   ]
  },
  {
   "cell_type": "code",
   "execution_count": 130,
   "metadata": {},
   "outputs": [],
   "source": [
    "model.compile(\n",
    "    optimizer='adam',\n",
    "    loss = 'categorical_crossentropy',\n",
    "    metrics = ['accuracy']\n",
    "             )"
   ]
  },
  {
   "cell_type": "code",
   "execution_count": 131,
   "metadata": {},
   "outputs": [
    {
     "name": "stdout",
     "output_type": "stream",
     "text": [
      "Epoch 1/20\n",
      "1875/1875 [==============================] - 13s 7ms/step - loss: 0.9639 - accuracy: 0.6712\n",
      "Epoch 2/20\n",
      "1875/1875 [==============================] - 13s 7ms/step - loss: 0.7856 - accuracy: 0.7258\n",
      "Epoch 3/20\n",
      "1875/1875 [==============================] - 13s 7ms/step - loss: 0.7502 - accuracy: 0.7380\n",
      "Epoch 4/20\n",
      "1875/1875 [==============================] - 12s 7ms/step - loss: 0.6565 - accuracy: 0.7778\n",
      "Epoch 5/20\n",
      "1875/1875 [==============================] - 12s 7ms/step - loss: 0.6329 - accuracy: 0.7857\n",
      "Epoch 6/20\n",
      "1875/1875 [==============================] - 13s 7ms/step - loss: 0.6391 - accuracy: 0.7846\n",
      "Epoch 7/20\n",
      "1875/1875 [==============================] - 13s 7ms/step - loss: 0.7388 - accuracy: 0.7498\n",
      "Epoch 8/20\n",
      "1875/1875 [==============================] - 13s 7ms/step - loss: 0.6725 - accuracy: 0.7681\n",
      "Epoch 9/20\n",
      "1875/1875 [==============================] - 13s 7ms/step - loss: 0.5879 - accuracy: 0.8062\n",
      "Epoch 10/20\n",
      "1875/1875 [==============================] - 13s 7ms/step - loss: 0.5409 - accuracy: 0.8209\n",
      "Epoch 11/20\n",
      "1875/1875 [==============================] - 13s 7ms/step - loss: 0.5707 - accuracy: 0.8122\n",
      "Epoch 12/20\n",
      "1875/1875 [==============================] - 13s 7ms/step - loss: 0.5540 - accuracy: 0.8179\n",
      "Epoch 13/20\n",
      "1875/1875 [==============================] - 13s 7ms/step - loss: 0.5131 - accuracy: 0.8349\n",
      "Epoch 14/20\n",
      "1875/1875 [==============================] - 13s 7ms/step - loss: 0.5103 - accuracy: 0.8345\n",
      "Epoch 15/20\n",
      "1875/1875 [==============================] - 13s 7ms/step - loss: 0.5221 - accuracy: 0.8308\n",
      "Epoch 16/20\n",
      "1875/1875 [==============================] - 13s 7ms/step - loss: 0.5046 - accuracy: 0.8321\n",
      "Epoch 17/20\n",
      "1875/1875 [==============================] - 13s 7ms/step - loss: 0.4579 - accuracy: 0.8522\n",
      "Epoch 18/20\n",
      "1875/1875 [==============================] - 13s 7ms/step - loss: 0.4725 - accuracy: 0.8477\n",
      "Epoch 19/20\n",
      "1875/1875 [==============================] - 14s 7ms/step - loss: 0.5519 - accuracy: 0.8198\n",
      "Epoch 20/20\n",
      "1875/1875 [==============================] - 14s 7ms/step - loss: 0.4428 - accuracy: 0.8588\n"
     ]
    },
    {
     "data": {
      "text/plain": [
       "<keras.callbacks.History at 0x23562283400>"
      ]
     },
     "execution_count": 131,
     "metadata": {},
     "output_type": "execute_result"
    }
   ],
   "source": [
    "model.fit(X_train, y_train, epochs=20)"
   ]
  },
  {
   "cell_type": "code",
   "execution_count": 132,
   "metadata": {},
   "outputs": [],
   "source": [
    "layers = model.layers"
   ]
  },
  {
   "cell_type": "code",
   "execution_count": 135,
   "metadata": {},
   "outputs": [],
   "source": [
    "f = layers[1].activation"
   ]
  },
  {
   "cell_type": "code",
   "execution_count": 93,
   "metadata": {},
   "outputs": [],
   "source": [
    "def relu(x):\n",
    "    return np.where(x>0,x,0)"
   ]
  },
  {
   "cell_type": "code",
   "execution_count": 143,
   "metadata": {},
   "outputs": [
    {
     "data": {
      "text/plain": [
       "True"
      ]
     },
     "execution_count": 143,
     "metadata": {},
     "output_type": "execute_result"
    }
   ],
   "source": [
    "activation = layers[2].activation"
   ]
  },
  {
   "cell_type": "code",
   "execution_count": 112,
   "metadata": {},
   "outputs": [],
   "source": [
    "def predict(x):\n",
    "    x = x.reshape(1,28*28)\n",
    "    w1, b1 = layers[1].get_weights()\n",
    "    result = np.dot(x,w1) + b1\n",
    "    result = relu(result)\n",
    "    for i in range(len(layers)-2):\n",
    "        w, b = layers[i+2].get_weights()\n",
    "        result = np.dot(result,w) + b\n",
    "        result = relu(result)\n",
    "    return np.argmax(result)"
   ]
  },
  {
   "cell_type": "code",
   "execution_count": 114,
   "metadata": {},
   "outputs": [
    {
     "name": "stdout",
     "output_type": "stream",
     "text": [
      "1/1 [==============================] - 0s 14ms/step\n"
     ]
    },
    {
     "data": {
      "text/plain": [
       "1"
      ]
     },
     "execution_count": 114,
     "metadata": {},
     "output_type": "execute_result"
    }
   ],
   "source": [
    "np.argmax(model.predict(X_test[[2]]))"
   ]
  },
  {
   "cell_type": "code",
   "execution_count": 116,
   "metadata": {},
   "outputs": [
    {
     "data": {
      "text/plain": [
       "2"
      ]
     },
     "execution_count": 116,
     "metadata": {},
     "output_type": "execute_result"
    }
   ],
   "source": [
    "predict(X_test[[1]])"
   ]
  },
  {
   "cell_type": "code",
   "execution_count": 117,
   "metadata": {},
   "outputs": [
    {
     "data": {
      "text/plain": [
       "<matplotlib.image.AxesImage at 0x235764b1828>"
      ]
     },
     "execution_count": 117,
     "metadata": {},
     "output_type": "execute_result"
    },
    {
     "data": {
      "image/png": "[encoded data removed]",
      "text/plain": [
       "<Figure size 432x288 with 1 Axes>"
      ]
     },
     "metadata": {
      "needs_background": "light"
     },
     "output_type": "display_data"
    }
   ],
   "source": [
    "import matplotlib.pyplot as plt\n",
    "plt.imshow(X_test[1])"
   ]
  },
  {
   "cell_type": "code",
   "execution_count": 49,
   "metadata": {},
   "outputs": [
    {
     "name": "stdout",
     "output_type": "stream",
     "text": [
      "1/1 [==============================] - 0s 14ms/step\n"
     ]
    },
    {
     "data": {
      "text/plain": [
       "7"
      ]
     },
     "execution_count": 49,
     "metadata": {},
     "output_type": "execute_result"
    }
   ],
   "source": [
    "import numpy as np\n",
    "np.argmax(model.predict(X_test[[0]]))"
   ]
  },
  {
   "cell_type": "code",
   "execution_count": 51,
   "metadata": {},
   "outputs": [],
   "source": [
    "w1,b1 = layers[1].get_weights()\n",
    "w2,b2 = layers[2].get_weights()\n",
    "w3,b3 = layers[3].get_weights()"
   ]
  },
  {
   "cell_type": "code",
   "execution_count": 55,
   "metadata": {},
   "outputs": [],
   "source": [
    "x = X_test[[0]].reshape(1,28*28)"
   ]
  },
  {
   "cell_type": "code",
   "execution_count": 56,
   "metadata": {},
   "outputs": [],
   "source": [
    "layer1 = np.dot(x,w1) + b1\n",
    "layer2 = np.dot(layer1,w2)+b2\n",
    "layer3 = np.dot(layer2,w3)+b3 "
   ]
  },
  {
   "cell_type": "code",
   "execution_count": 58,
   "metadata": {},
   "outputs": [
    {
     "data": {
      "text/plain": [
       "7"
      ]
     },
     "execution_count": 58,
     "metadata": {},
     "output_type": "execute_result"
    }
   ],
   "source": [
    "np.argmax(layer3)"
   ]
  },
  {
   "cell_type": "code",
   "execution_count": 59,
   "metadata": {},
   "outputs": [
    {
     "name": "stdout",
     "output_type": "stream",
     "text": [
      "1/1 [==============================] - 0s 14ms/step\n"
     ]
    }
   ],
   "source": [
    "a = model.predict(X_test[[0]])"
   ]
  },
  {
   "cell_type": "code",
   "execution_count": 60,
   "metadata": {},
   "outputs": [
    {
     "data": {
      "text/plain": [
       "array([[5.0557860e-09, 6.6569070e-09, 2.9670460e-05, 1.2412451e-06,\n",
       "        1.3498885e-10, 6.1361843e-10, 1.7827320e-15, 9.9996865e-01,\n",
       "        4.8452362e-12, 5.2287106e-07]], dtype=float32)"
      ]
     },
     "execution_count": 60,
     "metadata": {},
     "output_type": "execute_result"
    }
   ],
   "source": [
    "a"
   ]
  },
  {
   "cell_type": "code",
   "execution_count": 61,
   "metadata": {},
   "outputs": [
    {
     "data": {
      "text/plain": [
       "array([[ -15259.636, -126042.47 ,   72387.77 ,  115863.3  , -117307.06 ,\n",
       "         -40314.473, -273473.28 ,  129441.164,   24033.023,   52777.277]],\n",
       "      dtype=float32)"
      ]
     },
     "execution_count": 61,
     "metadata": {},
     "output_type": "execute_result"
    }
   ],
   "source": [
    "layer3"
   ]
  },
  {
   "cell_type": "code",
   "execution_count": null,
   "metadata": {},
   "outputs": [],
   "source": []
  }
 ],
 "metadata": {
  "kernelspec": {
   "display_name": "keras",
   "language": "python",
   "name": "keras"
  },
  "language_info": {
   "codemirror_mode": {
    "name": "ipython",
    "version": 3
   },
   "file_extension": ".py",
   "mimetype": "text/x-python",
   "name": "python",
   "nbconvert_exporter": "python",
   "pygments_lexer": "ipython3",
   "version": "3.7.3"
  }
 },
 "nbformat": 4,
 "nbformat_minor": 4
}
