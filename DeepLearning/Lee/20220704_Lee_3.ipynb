{
 "cells": [
  {
   "cell_type": "code",
   "execution_count": 371,
   "metadata": {},
   "outputs": [],
   "source": [
    "from tensorflow import keras\n",
    "from keras.models import Sequential\n",
    "from keras.layers import Dense\n",
    "from keras.utils import to_categorical\n",
    "from collections import Counter\n",
    "from sklearn.model_selection import train_test_split\n",
    "import matplotlib.pyplot as plt\n",
    "import numpy as np\n",
    "import pandas as pd\n",
    "\n",
    "from keras.datasets import imdb\n"
   ]
  },
  {
   "cell_type": "code",
   "execution_count": 265,
   "metadata": {},
   "outputs": [],
   "source": [
    "(X_train_full, y_train_full), (X_test, y_test) = imdb.load_data()"
   ]
  },
  {
   "cell_type": "code",
   "execution_count": 266,
   "metadata": {},
   "outputs": [],
   "source": [
    "X = np.concatenate([X_train_full,X_test])\n",
    "y = np.concatenate([y_train_full,y_test])"
   ]
  },
  {
   "cell_type": "code",
   "execution_count": 267,
   "metadata": {},
   "outputs": [],
   "source": [
    "word_index = imdb.get_word_index()"
   ]
  },
  {
   "cell_type": "code",
   "execution_count": 268,
   "metadata": {},
   "outputs": [],
   "source": [
    "index_word = { v:k for k,v in word_index.items()}"
   ]
  },
  {
   "cell_type": "code",
   "execution_count": 269,
   "metadata": {},
   "outputs": [],
   "source": [
    "max_len = pd.Series(X).apply(len).max()"
   ]
  },
  {
   "cell_type": "code",
   "execution_count": 270,
   "metadata": {},
   "outputs": [],
   "source": [
    "def make_sentence(x):\n",
    "    sentence = []\n",
    "    for i in x:\n",
    "        word = index_word.get(i)\n",
    "        if word is None:\n",
    "            word = ' '\n",
    "        sentence.append(word)\n",
    "    return ' '.join(sentence)"
   ]
  },
  {
   "cell_type": "code",
   "execution_count": 271,
   "metadata": {},
   "outputs": [],
   "source": [
    "X = pd.Series(X).apply(make_sentence)"
   ]
  },
  {
   "cell_type": "code",
   "execution_count": 272,
   "metadata": {},
   "outputs": [],
   "source": [
    "words = []\n",
    "for i in X:\n",
    "    words.extend(i.split())\n",
    "unique_word = list(set(words))"
   ]
  },
  {
   "cell_type": "code",
   "execution_count": 273,
   "metadata": {},
   "outputs": [],
   "source": [
    "count = Counter(words)"
   ]
  },
  {
   "cell_type": "code",
   "execution_count": 274,
   "metadata": {},
   "outputs": [],
   "source": [
    "most_words = count.most_common()"
   ]
  },
  {
   "cell_type": "code",
   "execution_count": 275,
   "metadata": {},
   "outputs": [],
   "source": [
    "most_words = most_words[0:1000]"
   ]
  },
  {
   "cell_type": "code",
   "execution_count": 276,
   "metadata": {},
   "outputs": [],
   "source": [
    "most_words = [ i for i, j in most_words]"
   ]
  },
  {
   "cell_type": "code",
   "execution_count": 277,
   "metadata": {},
   "outputs": [],
   "source": [
    "def find_word(x):\n",
    "    result = []\n",
    "    for i in most_words:\n",
    "        if i in x.split():\n",
    "            result.append(i)\n",
    "    return result"
   ]
  },
  {
   "cell_type": "code",
   "execution_count": 279,
   "metadata": {},
   "outputs": [],
   "source": [
    "X = X.apply(find_word)"
   ]
  },
  {
   "cell_type": "code",
   "execution_count": 282,
   "metadata": {},
   "outputs": [],
   "source": [
    "word_index = { v:i+1 for i, v in enumerate(most_words)}"
   ]
  },
  {
   "cell_type": "code",
   "execution_count": 284,
   "metadata": {},
   "outputs": [],
   "source": [
    "index_word = { v:k for k, v in word_index.items()}"
   ]
  },
  {
   "cell_type": "code",
   "execution_count": 406,
   "metadata": {},
   "outputs": [],
   "source": [
    "def sentence_int(x):\n",
    "    result = []\n",
    "    for i in x:\n",
    "        if word_index.get(i) is not None:\n",
    "            result.append(word_index[i])\n",
    "    return result"
   ]
  },
  {
   "cell_type": "code",
   "execution_count": 291,
   "metadata": {},
   "outputs": [],
   "source": [
    "X = X.apply(sentence_int)"
   ]
  },
  {
   "cell_type": "code",
   "execution_count": 297,
   "metadata": {},
   "outputs": [],
   "source": [
    "input_x = len(X)\n",
    "input_y = len(most_words)\n",
    "tmp = np.zeros((input_x,input_y),dtype=np.float32)\n",
    "for i in range(input_x):\n",
    "    for j in X[i]:\n",
    "        tmp[i,(j-1)] += 1  "
   ]
  },
  {
   "cell_type": "code",
   "execution_count": 302,
   "metadata": {},
   "outputs": [],
   "source": [
    "X_train_full, X_test, y_train_full, y_test = train_test_split(tmp,y,test_size=.2)"
   ]
  },
  {
   "cell_type": "code",
   "execution_count": 303,
   "metadata": {},
   "outputs": [],
   "source": [
    "X_train, X_validation, y_train, y_validation =\\\n",
    "train_test_split(X_train_full,y_train_full, test_size=.2)"
   ]
  },
  {
   "cell_type": "code",
   "execution_count": 308,
   "metadata": {},
   "outputs": [],
   "source": [
    "input_shape= X_train.shape[1:]\n",
    "third_model = Sequential()\n",
    "third_model.add(Dense(512,activation='relu',input_shape=input_shape))\n",
    "third_model.add(Dense(256,activation='relu'))\n",
    "third_model.add(Dense(128,activation='relu'))\n",
    "third_model.add(Dense(1,activation='sigmoid'))"
   ]
  },
  {
   "cell_type": "code",
   "execution_count": 309,
   "metadata": {},
   "outputs": [],
   "source": [
    "optimizer = 'rmsprop'\n",
    "loss = 'binary_crossentropy'\n",
    "metrics  = ['accuracy']\n",
    "third_model.compile(\n",
    "    optimizer = optimizer,\n",
    "    loss = loss,\n",
    "    metrics = metrics\n",
    ")"
   ]
  },
  {
   "cell_type": "code",
   "execution_count": 310,
   "metadata": {},
   "outputs": [
    {
     "name": "stdout",
     "output_type": "stream",
     "text": [
      "Model: \"sequential\"\n",
      "_________________________________________________________________\n",
      " Layer (type)                Output Shape              Param #   \n",
      "=================================================================\n",
      " dense (Dense)               (None, 512)               512512    \n",
      "                                                                 \n",
      " dense_1 (Dense)             (None, 256)               131328    \n",
      "                                                                 \n",
      " dense_2 (Dense)             (None, 128)               32896     \n",
      "                                                                 \n",
      " dense_3 (Dense)             (None, 1)                 129       \n",
      "                                                                 \n",
      "=================================================================\n",
      "Total params: 676,865\n",
      "Trainable params: 676,865\n",
      "Non-trainable params: 0\n",
      "_________________________________________________________________\n"
     ]
    }
   ],
   "source": [
    "third_model.summary()"
   ]
  },
  {
   "cell_type": "code",
   "execution_count": 311,
   "metadata": {},
   "outputs": [
    {
     "name": "stdout",
     "output_type": "stream",
     "text": [
      "Epoch 1/20\n",
      "80/80 [==============================] - 2s 21ms/step - loss: 0.4663 - accuracy: 0.7851 - val_loss: 0.3859 - val_accuracy: 0.8286\n",
      "Epoch 2/20\n",
      "80/80 [==============================] - 2s 19ms/step - loss: 0.3240 - accuracy: 0.8604 - val_loss: 0.3244 - val_accuracy: 0.8602\n",
      "Epoch 3/20\n",
      "80/80 [==============================] - 2s 19ms/step - loss: 0.2699 - accuracy: 0.8841 - val_loss: 0.3577 - val_accuracy: 0.8499\n",
      "Epoch 4/20\n",
      "80/80 [==============================] - 2s 19ms/step - loss: 0.1954 - accuracy: 0.9194 - val_loss: 0.4836 - val_accuracy: 0.8149\n",
      "Epoch 5/20\n",
      "80/80 [==============================] - 1s 18ms/step - loss: 0.1202 - accuracy: 0.9578 - val_loss: 0.4512 - val_accuracy: 0.8518\n",
      "Epoch 6/20\n",
      "80/80 [==============================] - 1s 18ms/step - loss: 0.0756 - accuracy: 0.9771 - val_loss: 0.6322 - val_accuracy: 0.8516\n",
      "Epoch 7/20\n",
      "80/80 [==============================] - 2s 21ms/step - loss: 0.0892 - accuracy: 0.9823 - val_loss: 0.5441 - val_accuracy: 0.8506\n",
      "Epoch 8/20\n",
      "80/80 [==============================] - 2s 19ms/step - loss: 0.0584 - accuracy: 0.9928 - val_loss: 0.7560 - val_accuracy: 0.8459\n",
      "Epoch 9/20\n",
      "80/80 [==============================] - 2s 19ms/step - loss: 0.0812 - accuracy: 0.9920 - val_loss: 0.9081 - val_accuracy: 0.8378\n",
      "Epoch 10/20\n",
      "80/80 [==============================] - 1s 19ms/step - loss: 4.1378e-04 - accuracy: 1.0000 - val_loss: 1.1212 - val_accuracy: 0.8478\n",
      "Epoch 11/20\n",
      "80/80 [==============================] - 2s 19ms/step - loss: 0.1039 - accuracy: 0.9915 - val_loss: 1.0508 - val_accuracy: 0.8516\n",
      "Epoch 12/20\n",
      "80/80 [==============================] - 2s 20ms/step - loss: 3.8901e-05 - accuracy: 1.0000 - val_loss: 1.2916 - val_accuracy: 0.8489\n",
      "Epoch 13/20\n",
      "80/80 [==============================] - 2s 20ms/step - loss: 0.0966 - accuracy: 0.9925 - val_loss: 1.1846 - val_accuracy: 0.8528\n",
      "Epoch 14/20\n",
      "80/80 [==============================] - 2s 20ms/step - loss: 1.7811e-05 - accuracy: 1.0000 - val_loss: 1.3458 - val_accuracy: 0.8540\n",
      "Epoch 15/20\n",
      "80/80 [==============================] - 2s 19ms/step - loss: 0.1253 - accuracy: 0.9934 - val_loss: 1.3061 - val_accuracy: 0.8459\n",
      "Epoch 16/20\n",
      "80/80 [==============================] - 2s 19ms/step - loss: 1.3671e-05 - accuracy: 1.0000 - val_loss: 1.3297 - val_accuracy: 0.8500\n",
      "Epoch 17/20\n",
      "80/80 [==============================] - 2s 19ms/step - loss: 2.2185e-06 - accuracy: 1.0000 - val_loss: 1.5097 - val_accuracy: 0.8501\n",
      "Epoch 18/20\n",
      "80/80 [==============================] - 2s 20ms/step - loss: 0.1268 - accuracy: 0.9906 - val_loss: 1.4565 - val_accuracy: 0.8491\n",
      "Epoch 19/20\n",
      "80/80 [==============================] - 2s 19ms/step - loss: 1.0947e-05 - accuracy: 1.0000 - val_loss: 1.4176 - val_accuracy: 0.8518\n",
      "Epoch 20/20\n",
      "80/80 [==============================] - 2s 19ms/step - loss: 1.4071e-06 - accuracy: 1.0000 - val_loss: 1.5236 - val_accuracy: 0.8506\n"
     ]
    },
    {
     "data": {
      "text/plain": [
       "<keras.callbacks.History at 0x2edae22d370>"
      ]
     },
     "execution_count": 311,
     "metadata": {},
     "output_type": "execute_result"
    }
   ],
   "source": [
    "third_model.fit(X_train,\n",
    "               y_train,\n",
    "               epochs=20,\n",
    "               validation_data=(X_validation,y_validation),\n",
    "               batch_size=400)"
   ]
  },
  {
   "cell_type": "code",
   "execution_count": 312,
   "metadata": {},
   "outputs": [
    {
     "name": "stdout",
     "output_type": "stream",
     "text": [
      "313/313 [==============================] - 1s 3ms/step - loss: 1.5125 - accuracy: 0.8567\n"
     ]
    },
    {
     "data": {
      "text/plain": [
       "[1.5124517679214478, 0.8567000031471252]"
      ]
     },
     "execution_count": 312,
     "metadata": {},
     "output_type": "execute_result"
    }
   ],
   "source": [
    "third_model.evaluate(X_test,y_test)"
   ]
  },
  {
   "cell_type": "code",
   "execution_count": 339,
   "metadata": {},
   "outputs": [],
   "source": [
    "dt = make_sentence(X[1000])"
   ]
  },
  {
   "cell_type": "code",
   "execution_count": 345,
   "metadata": {},
   "outputs": [],
   "source": [
    "dt = \"\"\"\n",
    "The popcorn's been popped, the sweatpants are on, and the evening is your oyster. Your next challenge: Figuring out exactly which of the great movies available to you is the one you're going to watch tonight. No matter what you're looking for—a rom-com, a murder mystery, a great musical movie—there are plenty of classics to watch in your spare time. After all, if the past two years cooped up in our homes has taught us anything, it's that there's nothing better than a movie to take us to a place that's far, far away from our current one. These must-watch movies are modern classics, the best of the best, the essential films that millions of people are probably jealous that you're getting to see for the first time. There are a few that might be outside your comfort zone, and a couple that'll introduce you to cultures and environments you know nothing about. This list may be long, but FOMO is eternal.\n",
    "\"\"\""
   ]
  },
  {
   "cell_type": "code",
   "execution_count": 350,
   "metadata": {},
   "outputs": [
    {
     "data": {
      "text/plain": [
       "\"\\nThe popcorn's been popped, the sweatpants are on, and the evening is your oyster. Your next challenge: Figuring out exactly which of the great movies available to you is the one you're going to watch tonight. No matter what you're looking for—a rom-com, a murder mystery, a great musical movie—there are plenty of classics to watch in your spare time. After all, if the past two years cooped up in our homes has taught us anything, it's that there's nothing better than a movie to take us to a place that's far, far away from our current one. These must-watch movies are modern classics, the best of the best, the essential films that millions of people are probably jealous that you're getting to see for the first time. There are a few that might be outside your comfort zone, and a couple that'll introduce you to cultures and environments you know nothing about. This list may be long, but FOMO is eternal.\\n\""
      ]
     },
     "execution_count": 350,
     "metadata": {},
     "output_type": "execute_result"
    }
   ],
   "source": [
    "dt"
   ]
  },
  {
   "cell_type": "code",
   "execution_count": 353,
   "metadata": {},
   "outputs": [],
   "source": [
    "def sentence_int1(x):\n",
    "    result = []\n",
    "    for i in x.split():\n",
    "        if word_index.get(i) is not None:\n",
    "            result.append(word_index.get(i))\n",
    "    return result"
   ]
  },
  {
   "cell_type": "code",
   "execution_count": 424,
   "metadata": {},
   "outputs": [],
   "source": [
    "def sentence_int(x):\n",
    "    result = []\n",
    "    for i in range(len(x)):\n",
    "        result_tmp = []\n",
    "        for j in x[i].split():\n",
    "            if word_index.get(j) is not None:\n",
    "                result_tmp.append(word_index[j])\n",
    "        result.append(result_tmp)\n",
    "    return result"
   ]
  },
  {
   "cell_type": "code",
   "execution_count": 435,
   "metadata": {},
   "outputs": [],
   "source": [
    "def vectorize_word(dt):\n",
    "    if len(dt) >0 :\n",
    "        x = sentence_int(dt)\n",
    "        x = np.array(x)\n",
    "        input_x = x.shape[0]\n",
    "    else:\n",
    "        x = sentence_int1(dt)\n",
    "        input_x = 1\n",
    "    input_y = len(most_words)\n",
    "    result = np.zeros((input_x,input_y),dtype=np.float32)\n",
    "    for i in range(input_x):\n",
    "        for j in x[i]:\n",
    "            result[0,(j-1)] += 1\n",
    "    return result"
   ]
  },
  {
   "cell_type": "code",
   "execution_count": 439,
   "metadata": {},
   "outputs": [
    {
     "name": "stdout",
     "output_type": "stream",
     "text": [
      "1/1 [==============================] - 0s 28ms/step\n"
     ]
    },
    {
     "name": "stderr",
     "output_type": "stream",
     "text": [
      "<ipython-input-435-c6fb3bc3b593>:4: VisibleDeprecationWarning: Creating an ndarray from ragged nested sequences (which is a list-or-tuple of lists-or-tuples-or ndarrays with different lengths or shapes) is deprecated. If you meant to do this, you must specify 'dtype=object' when creating the ndarray.\n",
      "  x = np.array(x)\n"
     ]
    },
    {
     "data": {
      "text/plain": [
       "array([[4.9723309e-05],\n",
       "       [1.9137485e-01]], dtype=float32)"
      ]
     },
     "execution_count": 439,
     "metadata": {},
     "output_type": "execute_result"
    }
   ],
   "source": [
    "third_model.predict(vectorize_word(dt))"
   ]
  },
  {
   "cell_type": "code",
   "execution_count": 374,
   "metadata": {},
   "outputs": [
    {
     "name": "stdout",
     "output_type": "stream",
     "text": [
      "Epoch 1/20\n",
      "80/80 [==============================] - 2s 21ms/step - loss: 0.4665 - accuracy: 0.7860 - val_loss: 0.3665 - val_accuracy: 0.8414\n",
      "Epoch 2/20\n",
      "80/80 [==============================] - 1s 17ms/step - loss: 0.3202 - accuracy: 0.8619 - val_loss: 0.3846 - val_accuracy: 0.8294\n",
      "Epoch 3/20\n",
      "80/80 [==============================] - 1s 18ms/step - loss: 0.2717 - accuracy: 0.8838 - val_loss: 0.3388 - val_accuracy: 0.8541\n",
      "Epoch 4/20\n",
      "80/80 [==============================] - 1s 19ms/step - loss: 0.1980 - accuracy: 0.9185 - val_loss: 0.4204 - val_accuracy: 0.8539\n",
      "Epoch 5/20\n",
      "80/80 [==============================] - 1s 18ms/step - loss: 0.1202 - accuracy: 0.9541 - val_loss: 0.4855 - val_accuracy: 0.8544\n",
      "Epoch 6/20\n",
      "80/80 [==============================] - 1s 19ms/step - loss: 0.0836 - accuracy: 0.9751 - val_loss: 0.6227 - val_accuracy: 0.8485\n",
      "Epoch 7/20\n",
      "80/80 [==============================] - 2s 20ms/step - loss: 0.0740 - accuracy: 0.9891 - val_loss: 0.7660 - val_accuracy: 0.8519\n",
      "Epoch 8/20\n",
      "80/80 [==============================] - 1s 18ms/step - loss: 0.0624 - accuracy: 0.9921 - val_loss: 0.9377 - val_accuracy: 0.8491\n",
      "Epoch 9/20\n",
      "80/80 [==============================] - 1s 17ms/step - loss: 0.0795 - accuracy: 0.9923 - val_loss: 0.8984 - val_accuracy: 0.8514\n",
      "Epoch 10/20\n",
      "80/80 [==============================] - 2s 20ms/step - loss: 0.0875 - accuracy: 0.9915 - val_loss: 0.9083 - val_accuracy: 0.8491\n",
      "Epoch 11/20\n",
      "80/80 [==============================] - 1s 19ms/step - loss: 2.6157e-04 - accuracy: 1.0000 - val_loss: 1.1823 - val_accuracy: 0.8508\n",
      "Epoch 12/20\n",
      "80/80 [==============================] - 2s 19ms/step - loss: 0.1039 - accuracy: 0.9922 - val_loss: 1.1751 - val_accuracy: 0.8481\n",
      "Epoch 13/20\n",
      "80/80 [==============================] - 2s 20ms/step - loss: 0.0481 - accuracy: 0.9935 - val_loss: 0.8656 - val_accuracy: 0.8521\n",
      "Epoch 14/20\n",
      "80/80 [==============================] - 2s 19ms/step - loss: 1.9640e-04 - accuracy: 1.0000 - val_loss: 1.2331 - val_accuracy: 0.8516\n",
      "Epoch 15/20\n",
      "80/80 [==============================] - 1s 18ms/step - loss: 0.0575 - accuracy: 0.9939 - val_loss: 1.1867 - val_accuracy: 0.8534\n",
      "Epoch 16/20\n",
      "80/80 [==============================] - 1s 18ms/step - loss: 0.0943 - accuracy: 0.9927 - val_loss: 1.2248 - val_accuracy: 0.8486\n",
      "Epoch 17/20\n",
      "80/80 [==============================] - 2s 19ms/step - loss: 2.9037e-05 - accuracy: 1.0000 - val_loss: 1.2811 - val_accuracy: 0.8518\n",
      "Epoch 18/20\n",
      "80/80 [==============================] - 2s 19ms/step - loss: 2.7380e-06 - accuracy: 1.0000 - val_loss: 1.5245 - val_accuracy: 0.8534\n",
      "Epoch 19/20\n",
      "80/80 [==============================] - 1s 18ms/step - loss: 0.0016 - accuracy: 0.9997 - val_loss: 11.2826 - val_accuracy: 0.5936\n",
      "Epoch 20/20\n",
      "80/80 [==============================] - 1s 18ms/step - loss: 0.1863 - accuracy: 0.9870 - val_loss: 1.1586 - val_accuracy: 0.8504\n"
     ]
    },
    {
     "data": {
      "text/plain": [
       "<keras.callbacks.History at 0x2edb6a8ec10>"
      ]
     },
     "execution_count": 374,
     "metadata": {},
     "output_type": "execute_result"
    }
   ],
   "source": [
    "input_shape= X_train.shape[1:]\n",
    "third_model = Sequential()\n",
    "third_model.add(Dense(512,activation='relu',input_shape=input_shape))\n",
    "third_model.add(Dense(256,activation='relu'))\n",
    "third_model.add(Dense(128,activation='relu'))\n",
    "third_model.add(Dense(1,activation='sigmoid'))\n",
    "third_model.compile(optimizer='rmsprop',\n",
    "                   loss='binary_crossentropy',\n",
    "                   metrics=['accuracy'])\n",
    "third_model.fit(X_train,\n",
    "               y_train,\n",
    "               epochs=20,\n",
    "               batch_size=400,\n",
    "               validation_data=(X_validation,y_validation))"
   ]
  },
  {
   "cell_type": "code",
   "execution_count": 375,
   "metadata": {},
   "outputs": [],
   "source": [
    "loss = third_model.history.history['loss']\n",
    "accuracy = third_model.history.history['accuracy']\n",
    "val_loss = third_model.history.history['val_loss']\n",
    "val_accuracy = third_model.history.history['val_accuracy']"
   ]
  },
  {
   "cell_type": "code",
   "execution_count": 376,
   "metadata": {},
   "outputs": [
    {
     "data": {
      "image/png": "[encoded data removed]",
      "text/plain": [
       "<Figure size 432x288 with 1 Axes>"
      ]
     },
     "metadata": {
      "needs_background": "light"
     },
     "output_type": "display_data"
    }
   ],
   "source": [
    "epochs = np.arange(1,21)\n",
    "plt.plot(epochs, accuracy, 'bo', label='Training acc')\n",
    "plt.plot(epochs, val_accuracy, 'b', label='Validation acc')\n",
    "plt.title('Training and validation accuracy')\n",
    "plt.xlabel('Epochs')\n",
    "plt.ylabel('Accuracy')\n",
    "plt.legend()\n",
    "\n",
    "plt.show()"
   ]
  },
  {
   "cell_type": "code",
   "execution_count": null,
   "metadata": {},
   "outputs": [],
   "source": []
  }
 ],
 "metadata": {
  "kernelspec": {
   "display_name": "tensorflow",
   "language": "python",
   "name": "tensorflow"
  },
  "language_info": {
   "codemirror_mode": {
    "name": "ipython",
    "version": 3
   },
   "file_extension": ".py",
   "mimetype": "text/x-python",
   "name": "python",
   "nbconvert_exporter": "python",
   "pygments_lexer": "ipython3",
   "version": "3.8.5"
  }
 },
 "nbformat": 4,
 "nbformat_minor": 4
}
