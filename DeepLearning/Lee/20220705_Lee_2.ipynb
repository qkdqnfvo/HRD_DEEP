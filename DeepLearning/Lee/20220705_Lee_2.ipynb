{
 "cells": [
  {
   "cell_type": "code",
   "execution_count": 21,
   "metadata": {},
   "outputs": [],
   "source": [
    "import numpy as np\n",
    "import pandas as pd\n",
    "\n",
    "from tensorflow import keras\n",
    "from keras.models import Sequential, Model\n",
    "from keras.layers import Dense, BatchNormalization, Dropout, Input\n",
    "from keras.utils import to_categorical\n",
    "from sklearn.model_selection import train_test_split\n",
    "from keras.datasets import reuters"
   ]
  },
  {
   "cell_type": "code",
   "execution_count": 5,
   "metadata": {},
   "outputs": [],
   "source": [
    "(X_train, y_train), (X_test, y_test) = \\\n",
    "reuters.load_data(num_words=10000)"
   ]
  },
  {
   "cell_type": "code",
   "execution_count": 12,
   "metadata": {},
   "outputs": [
    {
     "name": "stdout",
     "output_type": "stream",
     "text": [
      "Downloading data from https://storage.googleapis.com/tensorflow/tf-keras-datasets/reuters_word_index.json\n",
      "550378/550378 [==============================] - 0s 0us/step\n"
     ]
    }
   ],
   "source": [
    "word_index = reuters.get_word_index()"
   ]
  },
  {
   "cell_type": "code",
   "execution_count": 13,
   "metadata": {},
   "outputs": [],
   "source": [
    "index_word = {v:k for k,v in word_index.items()}"
   ]
  },
  {
   "cell_type": "code",
   "execution_count": 14,
   "metadata": {},
   "outputs": [
    {
     "data": {
      "text/plain": [
       "'the of of mln loss for plc said at only ended said commonwealth could 1 traders now april 0 a after said from 1985 and from foreign 000 april 0 prices its account year a but in this mln home an states earlier and rise and revs vs 000 its 16 vs 000 a but 3 psbr oils several and shareholders and dividend vs 000 its all 4 vs 000 1 mln agreed largely april 0 are 2 states will billion total and against 000 pct dlrs'"
      ]
     },
     "execution_count": 14,
     "metadata": {},
     "output_type": "execute_result"
    }
   ],
   "source": [
    "word = []\n",
    "for i in X_train[0]:\n",
    "    word.append(index_word.get(i))\n",
    "' '.join(word)"
   ]
  },
  {
   "cell_type": "code",
   "execution_count": 16,
   "metadata": {},
   "outputs": [],
   "source": [
    "def vectorize_sequences(sequences, dimension=10000):\n",
    "    results = np.zeros((len(sequences), dimension))\n",
    "    for i, sequence in enumerate(sequences):\n",
    "        results[i, sequence] = 1.\n",
    "    return results"
   ]
  },
  {
   "cell_type": "code",
   "execution_count": 20,
   "metadata": {},
   "outputs": [],
   "source": [
    "X_train = vectorize_sequences(X_train)\n",
    "X_test = vectorize_sequences(X_test)"
   ]
  },
  {
   "cell_type": "code",
   "execution_count": 22,
   "metadata": {},
   "outputs": [],
   "source": [
    "X_train, X_validation, y_train, y_validation =\\\n",
    "train_test_split(X_train, y_train, test_size=.2)"
   ]
  },
  {
   "cell_type": "code",
   "execution_count": 23,
   "metadata": {},
   "outputs": [],
   "source": [
    "y_train = to_categorical(y_train)\n",
    "y_test = to_categorical(y_test)\n",
    "y_validation = to_categorical(y_validation)"
   ]
  },
  {
   "cell_type": "code",
   "execution_count": 24,
   "metadata": {},
   "outputs": [
    {
     "data": {
      "text/plain": [
       "(7185, 46)"
      ]
     },
     "execution_count": 24,
     "metadata": {},
     "output_type": "execute_result"
    }
   ],
   "source": [
    "y_train.shape"
   ]
  },
  {
   "cell_type": "code",
   "execution_count": 25,
   "metadata": {},
   "outputs": [],
   "source": [
    "input_shape = X_train.shape[1:]\n",
    "output_shape = y_train.shape[-1]\n",
    "model1 = Sequential()\n",
    "model1.add(Dense(64,activation='relu',input_shape=input_shape))\n",
    "model1.add(Dense(64,activation='relu'))\n",
    "model1.add(Dense(output_shape,activation='softmax'))"
   ]
  },
  {
   "cell_type": "code",
   "execution_count": 26,
   "metadata": {},
   "outputs": [],
   "source": [
    "optimizer='rmsprop'\n",
    "loss='categorical_crossentropy'\n",
    "metrics=['accuracy']\n",
    "model1.compile(\n",
    "    optimizer=optimizer,\n",
    "    loss=loss,\n",
    "    metrics=metrics\n",
    ")"
   ]
  },
  {
   "cell_type": "code",
   "execution_count": 27,
   "metadata": {},
   "outputs": [
    {
     "name": "stdout",
     "output_type": "stream",
     "text": [
      "Epoch 1/20\n",
      "15/15 [==============================] - 1s 47ms/step - loss: 2.6665 - accuracy: 0.5051 - val_loss: 1.7721 - val_accuracy: 0.6516\n",
      "Epoch 2/20\n",
      "15/15 [==============================] - 0s 27ms/step - loss: 1.4548 - accuracy: 0.7030 - val_loss: 1.3680 - val_accuracy: 0.6984\n",
      "Epoch 3/20\n",
      "15/15 [==============================] - 0s 26ms/step - loss: 1.0873 - accuracy: 0.7605 - val_loss: 1.2417 - val_accuracy: 0.7151\n",
      "Epoch 4/20\n",
      "15/15 [==============================] - 0s 26ms/step - loss: 0.8729 - accuracy: 0.8081 - val_loss: 1.2824 - val_accuracy: 0.7012\n",
      "Epoch 5/20\n",
      "15/15 [==============================] - 0s 30ms/step - loss: 0.7250 - accuracy: 0.8422 - val_loss: 1.0652 - val_accuracy: 0.7646\n",
      "Epoch 6/20\n",
      "15/15 [==============================] - 0s 26ms/step - loss: 0.5878 - accuracy: 0.8781 - val_loss: 1.0682 - val_accuracy: 0.7596\n",
      "Epoch 7/20\n",
      "15/15 [==============================] - 0s 29ms/step - loss: 0.4830 - accuracy: 0.9006 - val_loss: 1.0219 - val_accuracy: 0.7730\n",
      "Epoch 8/20\n",
      "15/15 [==============================] - 0s 27ms/step - loss: 0.3968 - accuracy: 0.9190 - val_loss: 0.9891 - val_accuracy: 0.7924\n",
      "Epoch 9/20\n",
      "15/15 [==============================] - 0s 26ms/step - loss: 0.3314 - accuracy: 0.9336 - val_loss: 0.9923 - val_accuracy: 0.7880\n",
      "Epoch 10/20\n",
      "15/15 [==============================] - 0s 28ms/step - loss: 0.2775 - accuracy: 0.9429 - val_loss: 1.0162 - val_accuracy: 0.7974\n",
      "Epoch 11/20\n",
      "15/15 [==============================] - 0s 27ms/step - loss: 0.2363 - accuracy: 0.9479 - val_loss: 1.0009 - val_accuracy: 0.7974\n",
      "Epoch 12/20\n",
      "15/15 [==============================] - 0s 27ms/step - loss: 0.2027 - accuracy: 0.9538 - val_loss: 1.0123 - val_accuracy: 0.8002\n",
      "Epoch 13/20\n",
      "15/15 [==============================] - 0s 29ms/step - loss: 0.1788 - accuracy: 0.9553 - val_loss: 1.0008 - val_accuracy: 0.8036\n",
      "Epoch 14/20\n",
      "15/15 [==============================] - 0s 26ms/step - loss: 0.1612 - accuracy: 0.9564 - val_loss: 1.0714 - val_accuracy: 0.7935\n",
      "Epoch 15/20\n",
      "15/15 [==============================] - 0s 30ms/step - loss: 0.1452 - accuracy: 0.9578 - val_loss: 1.1207 - val_accuracy: 0.7835\n",
      "Epoch 16/20\n",
      "15/15 [==============================] - 0s 28ms/step - loss: 0.1359 - accuracy: 0.9595 - val_loss: 1.1279 - val_accuracy: 0.7952\n",
      "Epoch 17/20\n",
      "15/15 [==============================] - 0s 26ms/step - loss: 0.1321 - accuracy: 0.9584 - val_loss: 1.0700 - val_accuracy: 0.8063\n",
      "Epoch 18/20\n",
      "15/15 [==============================] - 0s 27ms/step - loss: 0.1191 - accuracy: 0.9631 - val_loss: 1.3070 - val_accuracy: 0.7652\n",
      "Epoch 19/20\n",
      "15/15 [==============================] - 0s 27ms/step - loss: 0.1178 - accuracy: 0.9608 - val_loss: 1.1299 - val_accuracy: 0.8002\n",
      "Epoch 20/20\n",
      "15/15 [==============================] - 0s 28ms/step - loss: 0.1101 - accuracy: 0.9603 - val_loss: 1.1311 - val_accuracy: 0.7991\n"
     ]
    },
    {
     "data": {
      "text/plain": [
       "<keras.callbacks.History at 0x1dc55f2a970>"
      ]
     },
     "execution_count": 27,
     "metadata": {},
     "output_type": "execute_result"
    }
   ],
   "source": [
    "x = X_train\n",
    "y = y_train\n",
    "epochs = 20\n",
    "batch_size = 512\n",
    "validation_data = (X_validation, y_validation)\n",
    "model1.fit(\n",
    "    x = x,\n",
    "    y = y,\n",
    "    epochs = epochs,\n",
    "    batch_size = batch_size,\n",
    "    validation_data = validation_data\n",
    ")"
   ]
  },
  {
   "cell_type": "code",
   "execution_count": 28,
   "metadata": {},
   "outputs": [],
   "source": [
    "model2 = Sequential(\n",
    "    [\n",
    "        Dense(64,activation='relu',input_shape=input_shape),\n",
    "        Dense(64,activation='relu'),\n",
    "        Dense(output_shape,activation='softmax')\n",
    "    ]\n",
    ")"
   ]
  },
  {
   "cell_type": "code",
   "execution_count": 29,
   "metadata": {},
   "outputs": [],
   "source": [
    "model2.compile(optimizer='rmsprop',\n",
    "              loss='categorical_crossentropy',\n",
    "              metrics=['accuracy'])"
   ]
  },
  {
   "cell_type": "code",
   "execution_count": 30,
   "metadata": {},
   "outputs": [
    {
     "name": "stdout",
     "output_type": "stream",
     "text": [
      "Epoch 1/20\n",
      "15/15 [==============================] - 1s 41ms/step - loss: 2.7010 - accuracy: 0.5417 - val_loss: 1.7884 - val_accuracy: 0.6544\n",
      "Epoch 2/20\n",
      "15/15 [==============================] - 0s 26ms/step - loss: 1.4700 - accuracy: 0.7001 - val_loss: 1.3921 - val_accuracy: 0.7062\n",
      "Epoch 3/20\n",
      "15/15 [==============================] - 0s 25ms/step - loss: 1.0953 - accuracy: 0.7726 - val_loss: 1.2814 - val_accuracy: 0.7223\n",
      "Epoch 4/20\n",
      "15/15 [==============================] - 0s 29ms/step - loss: 0.8804 - accuracy: 0.8199 - val_loss: 1.1854 - val_accuracy: 0.7268\n",
      "Epoch 5/20\n",
      "15/15 [==============================] - 0s 32ms/step - loss: 0.7140 - accuracy: 0.8530 - val_loss: 1.1077 - val_accuracy: 0.7551\n",
      "Epoch 6/20\n",
      "15/15 [==============================] - 0s 26ms/step - loss: 0.5811 - accuracy: 0.8823 - val_loss: 1.0427 - val_accuracy: 0.7602\n",
      "Epoch 7/20\n",
      "15/15 [==============================] - 0s 26ms/step - loss: 0.4777 - accuracy: 0.8984 - val_loss: 0.9980 - val_accuracy: 0.7769\n",
      "Epoch 8/20\n",
      "15/15 [==============================] - 0s 30ms/step - loss: 0.3939 - accuracy: 0.9189 - val_loss: 0.9792 - val_accuracy: 0.7880\n",
      "Epoch 9/20\n",
      "15/15 [==============================] - 0s 30ms/step - loss: 0.3203 - accuracy: 0.9322 - val_loss: 0.9618 - val_accuracy: 0.7935\n",
      "Epoch 10/20\n",
      "15/15 [==============================] - 0s 27ms/step - loss: 0.2662 - accuracy: 0.9431 - val_loss: 0.9570 - val_accuracy: 0.7991\n",
      "Epoch 11/20\n",
      "15/15 [==============================] - 0s 28ms/step - loss: 0.2261 - accuracy: 0.9488 - val_loss: 1.2466 - val_accuracy: 0.7262\n",
      "Epoch 12/20\n",
      "15/15 [==============================] - 0s 32ms/step - loss: 0.2068 - accuracy: 0.9481 - val_loss: 1.0084 - val_accuracy: 0.7941\n",
      "Epoch 13/20\n",
      "15/15 [==============================] - 0s 27ms/step - loss: 0.1785 - accuracy: 0.9555 - val_loss: 0.9872 - val_accuracy: 0.7991\n",
      "Epoch 14/20\n",
      "15/15 [==============================] - 0s 26ms/step - loss: 0.1594 - accuracy: 0.9571 - val_loss: 1.0007 - val_accuracy: 0.7980\n",
      "Epoch 15/20\n",
      "15/15 [==============================] - 0s 26ms/step - loss: 0.1423 - accuracy: 0.9594 - val_loss: 1.0626 - val_accuracy: 0.7891\n",
      "Epoch 16/20\n",
      "15/15 [==============================] - 0s 32ms/step - loss: 0.1351 - accuracy: 0.9584 - val_loss: 1.0212 - val_accuracy: 0.7980\n",
      "Epoch 17/20\n",
      "15/15 [==============================] - 0s 26ms/step - loss: 0.1238 - accuracy: 0.9595 - val_loss: 1.0467 - val_accuracy: 0.7958\n",
      "Epoch 18/20\n",
      "15/15 [==============================] - 0s 28ms/step - loss: 0.1138 - accuracy: 0.9620 - val_loss: 1.0828 - val_accuracy: 0.7974\n",
      "Epoch 19/20\n",
      "15/15 [==============================] - 0s 29ms/step - loss: 0.1118 - accuracy: 0.9603 - val_loss: 1.1509 - val_accuracy: 0.7891\n",
      "Epoch 20/20\n",
      "15/15 [==============================] - 0s 27ms/step - loss: 0.1092 - accuracy: 0.9605 - val_loss: 1.1476 - val_accuracy: 0.7869\n"
     ]
    },
    {
     "data": {
      "text/plain": [
       "<keras.callbacks.History at 0x1dc55857280>"
      ]
     },
     "execution_count": 30,
     "metadata": {},
     "output_type": "execute_result"
    }
   ],
   "source": [
    "model2.fit(X_train,\n",
    "          y_train,\n",
    "          epochs=20,\n",
    "          batch_size=512,\n",
    "          validation_data=(X_validation,y_validation))"
   ]
  },
  {
   "cell_type": "code",
   "execution_count": 32,
   "metadata": {},
   "outputs": [],
   "source": [
    "input_layer = Input(shape=input_shape)\n",
    "layer1 = Dense(64,activation='relu')(input_layer)\n",
    "layer2 = Dense(64,activation='relu')(layer1)\n",
    "output_layer = Dense(output_shape,activation='softmax')(layer2)\n",
    "model3 = Model(inputs=[input_layer],outputs=[output_layer])"
   ]
  },
  {
   "cell_type": "code",
   "execution_count": 33,
   "metadata": {},
   "outputs": [],
   "source": [
    "model3.compile(\n",
    "    optimizer = 'rmsprop',\n",
    "    loss = 'categorical_crossentropy',\n",
    "    metrics = ['accuracy']\n",
    ")"
   ]
  },
  {
   "cell_type": "code",
   "execution_count": 34,
   "metadata": {},
   "outputs": [
    {
     "name": "stdout",
     "output_type": "stream",
     "text": [
      "Epoch 1/20\n",
      "15/15 [==============================] - 1s 36ms/step - loss: 2.7319 - accuracy: 0.5051 - val_loss: 1.8006 - val_accuracy: 0.6294\n",
      "Epoch 2/20\n",
      "15/15 [==============================] - 0s 29ms/step - loss: 1.5006 - accuracy: 0.6980 - val_loss: 1.3949 - val_accuracy: 0.6962\n",
      "Epoch 3/20\n",
      "15/15 [==============================] - 0s 25ms/step - loss: 1.1117 - accuracy: 0.7731 - val_loss: 1.2352 - val_accuracy: 0.7290\n",
      "Epoch 4/20\n",
      "15/15 [==============================] - 0s 30ms/step - loss: 0.8892 - accuracy: 0.8149 - val_loss: 1.1215 - val_accuracy: 0.7518\n",
      "Epoch 5/20\n",
      "15/15 [==============================] - 0s 31ms/step - loss: 0.7159 - accuracy: 0.8491 - val_loss: 1.0920 - val_accuracy: 0.7546\n",
      "Epoch 6/20\n",
      "15/15 [==============================] - 0s 30ms/step - loss: 0.5820 - accuracy: 0.8774 - val_loss: 1.0143 - val_accuracy: 0.7752\n",
      "Epoch 7/20\n",
      "15/15 [==============================] - 0s 26ms/step - loss: 0.4721 - accuracy: 0.9026 - val_loss: 0.9907 - val_accuracy: 0.7874\n",
      "Epoch 8/20\n",
      "15/15 [==============================] - 0s 30ms/step - loss: 0.3870 - accuracy: 0.9216 - val_loss: 0.9753 - val_accuracy: 0.7869\n",
      "Epoch 9/20\n",
      "15/15 [==============================] - 0s 26ms/step - loss: 0.3197 - accuracy: 0.9310 - val_loss: 0.9818 - val_accuracy: 0.7991\n",
      "Epoch 10/20\n",
      "15/15 [==============================] - 0s 28ms/step - loss: 0.2725 - accuracy: 0.9408 - val_loss: 0.9748 - val_accuracy: 0.7924\n",
      "Epoch 11/20\n",
      "15/15 [==============================] - 0s 29ms/step - loss: 0.2272 - accuracy: 0.9509 - val_loss: 0.9971 - val_accuracy: 0.7952\n",
      "Epoch 12/20\n",
      "15/15 [==============================] - 0s 25ms/step - loss: 0.1984 - accuracy: 0.9513 - val_loss: 1.0297 - val_accuracy: 0.7891\n",
      "Epoch 13/20\n",
      "15/15 [==============================] - 0s 26ms/step - loss: 0.1737 - accuracy: 0.9569 - val_loss: 1.0519 - val_accuracy: 0.7796\n",
      "Epoch 14/20\n",
      "15/15 [==============================] - 0s 25ms/step - loss: 0.1588 - accuracy: 0.9567 - val_loss: 1.0564 - val_accuracy: 0.7863\n",
      "Epoch 15/20\n",
      "15/15 [==============================] - 0s 25ms/step - loss: 0.1425 - accuracy: 0.9574 - val_loss: 1.1145 - val_accuracy: 0.7796\n",
      "Epoch 16/20\n",
      "15/15 [==============================] - 0s 30ms/step - loss: 0.1304 - accuracy: 0.9587 - val_loss: 1.2279 - val_accuracy: 0.7691\n",
      "Epoch 17/20\n",
      "15/15 [==============================] - 0s 27ms/step - loss: 0.1300 - accuracy: 0.9573 - val_loss: 1.1247 - val_accuracy: 0.7880\n",
      "Epoch 18/20\n",
      "15/15 [==============================] - 0s 24ms/step - loss: 0.1137 - accuracy: 0.9609 - val_loss: 1.1977 - val_accuracy: 0.7824\n",
      "Epoch 19/20\n",
      "15/15 [==============================] - 0s 29ms/step - loss: 0.1117 - accuracy: 0.9619 - val_loss: 1.2187 - val_accuracy: 0.7819\n",
      "Epoch 20/20\n",
      "15/15 [==============================] - 0s 29ms/step - loss: 0.1065 - accuracy: 0.9608 - val_loss: 1.1259 - val_accuracy: 0.7941\n"
     ]
    },
    {
     "data": {
      "text/plain": [
       "<keras.callbacks.History at 0x1dc55a09880>"
      ]
     },
     "execution_count": 34,
     "metadata": {},
     "output_type": "execute_result"
    }
   ],
   "source": [
    "model3.fit(X_train,\n",
    "          y_train,\n",
    "          epochs=20,\n",
    "          batch_size=512,\n",
    "          validation_data = (X_validation,y_validation))"
   ]
  },
  {
   "cell_type": "code",
   "execution_count": 35,
   "metadata": {},
   "outputs": [],
   "source": [
    "from IPython.core.interactiveshell import InteractiveShell\n",
    "InteractiveShell.ast_node_interactivity = \"all\""
   ]
  },
  {
   "cell_type": "code",
   "execution_count": 36,
   "metadata": {},
   "outputs": [
    {
     "name": "stdout",
     "output_type": "stream",
     "text": [
      "71/71 [==============================] - 0s 3ms/step - loss: 1.2390 - accuracy: 0.7858\n"
     ]
    },
    {
     "data": {
      "text/plain": [
       "[1.2389501333236694, 0.7858415246009827]"
      ]
     },
     "execution_count": 36,
     "metadata": {},
     "output_type": "execute_result"
    },
    {
     "name": "stdout",
     "output_type": "stream",
     "text": [
      "71/71 [==============================] - 0s 3ms/step - loss: 1.2843 - accuracy: 0.7711\n"
     ]
    },
    {
     "data": {
      "text/plain": [
       "[1.284262776374817, 0.771148681640625]"
      ]
     },
     "execution_count": 36,
     "metadata": {},
     "output_type": "execute_result"
    },
    {
     "name": "stdout",
     "output_type": "stream",
     "text": [
      "71/71 [==============================] - 0s 3ms/step - loss: 1.1911 - accuracy: 0.7854\n"
     ]
    },
    {
     "data": {
      "text/plain": [
       "[1.1911280155181885, 0.7853962779045105]"
      ]
     },
     "execution_count": 36,
     "metadata": {},
     "output_type": "execute_result"
    }
   ],
   "source": [
    "model1.evaluate(X_test,y_test)\n",
    "model2.evaluate(X_test,y_test)\n",
    "model3.evaluate(X_test,y_test)"
   ]
  },
  {
   "cell_type": "code",
   "execution_count": 37,
   "metadata": {},
   "outputs": [],
   "source": [
    "(X_train,y_train), (X_test,y_test) = reuters.load_data(num_words=10000) "
   ]
  },
  {
   "cell_type": "code",
   "execution_count": 38,
   "metadata": {},
   "outputs": [],
   "source": [
    "X_train = vectorize_sequences(X_train)\n",
    "X_test = vectorize_sequences(X_test)"
   ]
  },
  {
   "cell_type": "code",
   "execution_count": 47,
   "metadata": {},
   "outputs": [
    {
     "data": {
      "text/plain": [
       "array([ 3,  4,  3, ..., 25,  3, 25], dtype=int64)"
      ]
     },
     "execution_count": 47,
     "metadata": {},
     "output_type": "execute_result"
    }
   ],
   "source": [
    "y_train"
   ]
  },
  {
   "cell_type": "code",
   "execution_count": 48,
   "metadata": {},
   "outputs": [],
   "source": [
    "input_shape = X_train.shape[1:]\n",
    "output_shape = np.unique(y_train).size\n",
    "input_layer= Dense(64,activation='relu',input_shape=input_shape)\n",
    "layer1 = Dense(64,activation='relu')\n",
    "output_layer = Dense(output_shape,activation='softmax')\n",
    "model = Sequential(\n",
    "   [\n",
    "       input_layer,\n",
    "       layer1,\n",
    "       output_layer\n",
    "   ] \n",
    ")"
   ]
  },
  {
   "cell_type": "code",
   "execution_count": 49,
   "metadata": {},
   "outputs": [],
   "source": [
    "model.compile(\n",
    "    optimizer='rmsprop',\n",
    "    loss='sparse_categorical_crossentropy',\n",
    "    metrics=['accuracy']\n",
    ")"
   ]
  },
  {
   "cell_type": "code",
   "execution_count": 50,
   "metadata": {},
   "outputs": [
    {
     "name": "stdout",
     "output_type": "stream",
     "text": [
      "Epoch 1/20\n",
      "18/18 [==============================] - 1s 38ms/step - loss: 2.5055 - accuracy: 0.5030 - val_loss: 1.6662 - val_accuracy: 0.6554\n",
      "Epoch 2/20\n",
      "18/18 [==============================] - 1s 31ms/step - loss: 1.3201 - accuracy: 0.7198 - val_loss: 1.2774 - val_accuracy: 0.7110\n",
      "Epoch 3/20\n",
      "18/18 [==============================] - 1s 31ms/step - loss: 0.9631 - accuracy: 0.7949 - val_loss: 1.1216 - val_accuracy: 0.7538\n",
      "Epoch 4/20\n",
      "18/18 [==============================] - 0s 26ms/step - loss: 0.7533 - accuracy: 0.8441 - val_loss: 1.0208 - val_accuracy: 0.7698\n",
      "Epoch 5/20\n",
      "18/18 [==============================] - 0s 26ms/step - loss: 0.5915 - accuracy: 0.8790 - val_loss: 0.9692 - val_accuracy: 0.7827\n",
      "Epoch 6/20\n",
      "18/18 [==============================] - 0s 28ms/step - loss: 0.4725 - accuracy: 0.9041 - val_loss: 0.9218 - val_accuracy: 0.7921\n",
      "Epoch 7/20\n",
      "18/18 [==============================] - 0s 27ms/step - loss: 0.3780 - accuracy: 0.9211 - val_loss: 0.9098 - val_accuracy: 0.7947\n",
      "Epoch 8/20\n",
      "18/18 [==============================] - 0s 27ms/step - loss: 0.3101 - accuracy: 0.9343 - val_loss: 0.9118 - val_accuracy: 0.8010\n",
      "Epoch 9/20\n",
      "18/18 [==============================] - 1s 31ms/step - loss: 0.2561 - accuracy: 0.9414 - val_loss: 0.9135 - val_accuracy: 0.8028\n",
      "Epoch 10/20\n",
      "18/18 [==============================] - 0s 26ms/step - loss: 0.2202 - accuracy: 0.9470 - val_loss: 0.9311 - val_accuracy: 0.8001\n",
      "Epoch 11/20\n",
      "18/18 [==============================] - 1s 29ms/step - loss: 0.1967 - accuracy: 0.9481 - val_loss: 1.0516 - val_accuracy: 0.7792\n",
      "Epoch 12/20\n",
      "18/18 [==============================] - 0s 27ms/step - loss: 0.1729 - accuracy: 0.9526 - val_loss: 1.0076 - val_accuracy: 0.7930\n",
      "Epoch 13/20\n",
      "18/18 [==============================] - 1s 29ms/step - loss: 0.1609 - accuracy: 0.9522 - val_loss: 1.0121 - val_accuracy: 0.7952\n",
      "Epoch 14/20\n",
      "18/18 [==============================] - 0s 28ms/step - loss: 0.1478 - accuracy: 0.9523 - val_loss: 1.0315 - val_accuracy: 0.7934\n",
      "Epoch 15/20\n",
      "18/18 [==============================] - 0s 27ms/step - loss: 0.1392 - accuracy: 0.9542 - val_loss: 1.0294 - val_accuracy: 0.7943\n",
      "Epoch 16/20\n",
      "18/18 [==============================] - 1s 35ms/step - loss: 0.1336 - accuracy: 0.9541 - val_loss: 1.0843 - val_accuracy: 0.7898\n",
      "Epoch 17/20\n",
      "18/18 [==============================] - 1s 38ms/step - loss: 0.1288 - accuracy: 0.9541 - val_loss: 1.1218 - val_accuracy: 0.7903\n",
      "Epoch 18/20\n",
      "18/18 [==============================] - 1s 34ms/step - loss: 0.1243 - accuracy: 0.9527 - val_loss: 1.0976 - val_accuracy: 0.7996\n",
      "Epoch 19/20\n",
      "18/18 [==============================] - 1s 35ms/step - loss: 0.1208 - accuracy: 0.9548 - val_loss: 1.1788 - val_accuracy: 0.7881\n",
      "Epoch 20/20\n",
      "18/18 [==============================] - 1s 29ms/step - loss: 0.1152 - accuracy: 0.9555 - val_loss: 1.1433 - val_accuracy: 0.7934\n"
     ]
    },
    {
     "data": {
      "text/plain": [
       "<keras.callbacks.History at 0x1dca7d26ee0>"
      ]
     },
     "execution_count": 50,
     "metadata": {},
     "output_type": "execute_result"
    }
   ],
   "source": [
    "model.fit(X_train,\n",
    "         y_train,\n",
    "         epochs=20,\n",
    "         batch_size=512,\n",
    "         validation_data=(X_test,y_test))"
   ]
  },
  {
   "cell_type": "code",
   "execution_count": null,
   "metadata": {},
   "outputs": [],
   "source": []
  }
 ],
 "metadata": {
  "kernelspec": {
   "display_name": "tensorflow",
   "language": "python",
   "name": "tensorflow"
  },
  "language_info": {
   "codemirror_mode": {
    "name": "ipython",
    "version": 3
   },
   "file_extension": ".py",
   "mimetype": "text/x-python",
   "name": "python",
   "nbconvert_exporter": "python",
   "pygments_lexer": "ipython3",
   "version": "3.8.5"
  }
 },
 "nbformat": 4,
 "nbformat_minor": 4
}
