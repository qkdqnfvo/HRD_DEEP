{
 "cells": [
  {
   "cell_type": "code",
   "execution_count": 60,
   "metadata": {},
   "outputs": [],
   "source": [
    "import tensorflow as tf\n",
    "from tensorflow import keras\n",
    "from keras.utils import to_categorical\n",
    "import numpy as np\n",
    "import pandas as pd\n",
    "from sklearn.model_selection import train_test_split\n",
    "import matplotlib.pyplot as plt\n",
    "from sklearn.metrics import accuracy_score"
   ]
  },
  {
   "cell_type": "code",
   "execution_count": 38,
   "metadata": {},
   "outputs": [],
   "source": [
    "from IPython.core.interactiveshell import InteractiveShell\n",
    "InteractiveShell.ast_node_interactivity = \"all\""
   ]
  },
  {
   "cell_type": "code",
   "execution_count": 4,
   "metadata": {},
   "outputs": [
    {
     "data": {
      "text/plain": [
       "'2.9.1'"
      ]
     },
     "execution_count": 4,
     "metadata": {},
     "output_type": "execute_result"
    }
   ],
   "source": [
    "tf.__version__"
   ]
  },
  {
   "cell_type": "code",
   "execution_count": 5,
   "metadata": {},
   "outputs": [
    {
     "data": {
      "text/plain": [
       "'2.9.0'"
      ]
     },
     "execution_count": 5,
     "metadata": {},
     "output_type": "execute_result"
    }
   ],
   "source": [
    "keras.__version__"
   ]
  },
  {
   "cell_type": "code",
   "execution_count": 6,
   "metadata": {},
   "outputs": [
    {
     "data": {
      "text/plain": [
       "'1.23.0'"
      ]
     },
     "execution_count": 6,
     "metadata": {},
     "output_type": "execute_result"
    }
   ],
   "source": [
    "np.__version__"
   ]
  },
  {
   "cell_type": "code",
   "execution_count": 7,
   "metadata": {},
   "outputs": [
    {
     "data": {
      "text/plain": [
       "'1.1.3'"
      ]
     },
     "execution_count": 7,
     "metadata": {},
     "output_type": "execute_result"
    }
   ],
   "source": [
    "pd.__version__"
   ]
  },
  {
   "cell_type": "code",
   "execution_count": 8,
   "metadata": {},
   "outputs": [],
   "source": [
    "from keras.datasets import mnist"
   ]
  },
  {
   "cell_type": "code",
   "execution_count": 46,
   "metadata": {},
   "outputs": [],
   "source": [
    "(X_train, y_train),(X_test,y_test) = mnist.load_data()"
   ]
  },
  {
   "cell_type": "code",
   "execution_count": 47,
   "metadata": {},
   "outputs": [],
   "source": [
    "X = np.concatenate([X_train,X_test])"
   ]
  },
  {
   "cell_type": "code",
   "execution_count": 48,
   "metadata": {},
   "outputs": [],
   "source": [
    "y = np.concatenate([y_train,y_test])"
   ]
  },
  {
   "cell_type": "code",
   "execution_count": 49,
   "metadata": {},
   "outputs": [],
   "source": [
    "X_train_full, X_test, y_train_full, y_test = train_test_split(X,y,test_size=0.2)"
   ]
  },
  {
   "cell_type": "code",
   "execution_count": 50,
   "metadata": {},
   "outputs": [],
   "source": [
    "X_train, X_validation, y_train, y_validation = \\\n",
    "train_test_split(X_train_full,y_train_full,test_size=.2)"
   ]
  },
  {
   "cell_type": "code",
   "execution_count": 32,
   "metadata": {},
   "outputs": [
    {
     "name": "stdout",
     "output_type": "stream",
     "text": [
      "8\n"
     ]
    },
    {
     "data": {
      "text/plain": [
       "<matplotlib.image.AxesImage at 0x166ba9b1640>"
      ]
     },
     "execution_count": 32,
     "metadata": {},
     "output_type": "execute_result"
    },
    {
     "data": {
      "image/png": "[encoded data removed]",
      "text/plain": [
       "<Figure size 432x288 with 1 Axes>"
      ]
     },
     "metadata": {
      "needs_background": "light"
     },
     "output_type": "display_data"
    }
   ],
   "source": [
    "print(y_train[0])\n",
    "plt.imshow(X_train[0],cmap=plt.cm.binary)"
   ]
  },
  {
   "cell_type": "code",
   "execution_count": 33,
   "metadata": {},
   "outputs": [
    {
     "data": {
      "text/plain": [
       "(44800, 28, 28)"
      ]
     },
     "execution_count": 33,
     "metadata": {},
     "output_type": "execute_result"
    }
   ],
   "source": [
    "X_train.shape"
   ]
  },
  {
   "cell_type": "code",
   "execution_count": 51,
   "metadata": {},
   "outputs": [],
   "source": [
    "X_train = X_train.reshape(-1,28*28)\n",
    "X_validation = X_validation.reshape(-1,28*28) \n",
    "X_test = X_test.reshape(-1,28*28)"
   ]
  },
  {
   "cell_type": "code",
   "execution_count": 70,
   "metadata": {},
   "outputs": [],
   "source": [
    "y_train =  to_categorical(y_train)\n",
    "y_validation = to_categorical(y_validation)\n",
    "y_test = to_categorical(y_test)"
   ]
  },
  {
   "cell_type": "code",
   "execution_count": 39,
   "metadata": {},
   "outputs": [
    {
     "data": {
      "text/plain": [
       "(44800, 784)"
      ]
     },
     "execution_count": 39,
     "metadata": {},
     "output_type": "execute_result"
    },
    {
     "data": {
      "text/plain": [
       "(44800, 10)"
      ]
     },
     "execution_count": 39,
     "metadata": {},
     "output_type": "execute_result"
    }
   ],
   "source": [
    "X_train.shape\n",
    "y_train.shape"
   ]
  },
  {
   "cell_type": "code",
   "execution_count": 64,
   "metadata": {},
   "outputs": [],
   "source": [
    "from sklearn.ensemble import RandomForestClassifier \n",
    "from sklearn.tree import DecisionTreeClassifier"
   ]
  },
  {
   "cell_type": "code",
   "execution_count": 53,
   "metadata": {},
   "outputs": [],
   "source": [
    "rf_model = RandomForestClassifier()"
   ]
  },
  {
   "cell_type": "code",
   "execution_count": 54,
   "metadata": {},
   "outputs": [
    {
     "data": {
      "text/plain": [
       "RandomForestClassifier()"
      ]
     },
     "execution_count": 54,
     "metadata": {},
     "output_type": "execute_result"
    }
   ],
   "source": [
    "rf_model.fit(X_train, y_train)"
   ]
  },
  {
   "cell_type": "code",
   "execution_count": 66,
   "metadata": {},
   "outputs": [],
   "source": [
    "dt_model = DecisionTreeClassifier()"
   ]
  },
  {
   "cell_type": "code",
   "execution_count": 71,
   "metadata": {},
   "outputs": [],
   "source": [
    "## fully_connected -- layer"
   ]
  },
  {
   "cell_type": "code",
   "execution_count": 75,
   "metadata": {},
   "outputs": [
    {
     "data": {
      "text/plain": [
       "(44800, 784)"
      ]
     },
     "execution_count": 75,
     "metadata": {},
     "output_type": "execute_result"
    }
   ],
   "source": [
    "X_train.shape"
   ]
  },
  {
   "cell_type": "code",
   "execution_count": 74,
   "metadata": {},
   "outputs": [],
   "source": [
    "from keras.models import Sequential\n",
    "from keras.layers import Dense"
   ]
  },
  {
   "cell_type": "code",
   "execution_count": 94,
   "metadata": {},
   "outputs": [
    {
     "data": {
      "text/plain": [
       "10"
      ]
     },
     "execution_count": 94,
     "metadata": {},
     "output_type": "execute_result"
    }
   ],
   "source": [
    "y_train.shape[-1]"
   ]
  },
  {
   "cell_type": "code",
   "execution_count": 98,
   "metadata": {},
   "outputs": [],
   "source": [
    "input_shape = X_train.shape[1:]\n",
    "output_shape= y_train.shape[-1]\n",
    "first_model = Sequential()\n",
    "first_model.add(Dense(100,activation='relu',input_shape=input_shape))\n",
    "first_model.add(Dense(50,activation='sigmoid'))\n",
    "first_model.add(Dense(output_shape,activation='softmax'))"
   ]
  },
  {
   "cell_type": "code",
   "execution_count": 99,
   "metadata": {},
   "outputs": [],
   "source": [
    "optimizer = 'rmsprop'\n",
    "loss = 'categorical_crossentropy'\n",
    "metrics = ['accuracy']\n",
    "first_model.compile(\n",
    "    optimizer = optimizer,\n",
    "    loss = loss,\n",
    "    metrics = metrics\n",
    ")"
   ]
  },
  {
   "cell_type": "code",
   "execution_count": 100,
   "metadata": {},
   "outputs": [
    {
     "name": "stdout",
     "output_type": "stream",
     "text": [
      "Epoch 1/20\n",
      "224/224 [==============================] - 1s 5ms/step - loss: 0.9440 - accuracy: 0.7655 - val_loss: 0.4954 - val_accuracy: 0.8843\n",
      "Epoch 2/20\n",
      "224/224 [==============================] - 1s 4ms/step - loss: 0.3828 - accuracy: 0.9006 - val_loss: 0.3022 - val_accuracy: 0.9177\n",
      "Epoch 3/20\n",
      "224/224 [==============================] - 1s 5ms/step - loss: 0.2781 - accuracy: 0.9207 - val_loss: 0.2518 - val_accuracy: 0.9293\n",
      "Epoch 4/20\n",
      "224/224 [==============================] - 1s 4ms/step - loss: 0.2369 - accuracy: 0.9308 - val_loss: 0.2313 - val_accuracy: 0.9314\n",
      "Epoch 5/20\n",
      "224/224 [==============================] - 1s 4ms/step - loss: 0.2144 - accuracy: 0.9376 - val_loss: 0.2214 - val_accuracy: 0.9351\n",
      "Epoch 6/20\n",
      "224/224 [==============================] - 1s 4ms/step - loss: 0.1986 - accuracy: 0.9401 - val_loss: 0.1996 - val_accuracy: 0.9413\n",
      "Epoch 7/20\n",
      "224/224 [==============================] - 1s 4ms/step - loss: 0.1841 - accuracy: 0.9450 - val_loss: 0.1962 - val_accuracy: 0.9433\n",
      "Epoch 8/20\n",
      "224/224 [==============================] - 1s 4ms/step - loss: 0.1753 - accuracy: 0.9481 - val_loss: 0.1975 - val_accuracy: 0.9427\n",
      "Epoch 9/20\n",
      "224/224 [==============================] - 1s 4ms/step - loss: 0.1663 - accuracy: 0.9504 - val_loss: 0.1778 - val_accuracy: 0.9477\n",
      "Epoch 10/20\n",
      "224/224 [==============================] - 1s 4ms/step - loss: 0.1653 - accuracy: 0.9505 - val_loss: 0.1904 - val_accuracy: 0.9445\n",
      "Epoch 11/20\n",
      "224/224 [==============================] - 1s 4ms/step - loss: 0.1574 - accuracy: 0.9524 - val_loss: 0.1742 - val_accuracy: 0.9488\n",
      "Epoch 12/20\n",
      "224/224 [==============================] - 1s 4ms/step - loss: 0.1441 - accuracy: 0.9573 - val_loss: 0.1657 - val_accuracy: 0.9513\n",
      "Epoch 13/20\n",
      "224/224 [==============================] - 1s 4ms/step - loss: 0.1423 - accuracy: 0.9570 - val_loss: 0.1623 - val_accuracy: 0.9523\n",
      "Epoch 14/20\n",
      "224/224 [==============================] - 1s 4ms/step - loss: 0.1422 - accuracy: 0.9574 - val_loss: 0.1743 - val_accuracy: 0.9498\n",
      "Epoch 15/20\n",
      "224/224 [==============================] - 1s 4ms/step - loss: 0.1336 - accuracy: 0.9606 - val_loss: 0.1567 - val_accuracy: 0.9546\n",
      "Epoch 16/20\n",
      "224/224 [==============================] - 1s 4ms/step - loss: 0.1285 - accuracy: 0.9619 - val_loss: 0.1534 - val_accuracy: 0.9562\n",
      "Epoch 17/20\n",
      "224/224 [==============================] - 1s 4ms/step - loss: 0.1226 - accuracy: 0.9638 - val_loss: 0.1504 - val_accuracy: 0.9571\n",
      "Epoch 18/20\n",
      "224/224 [==============================] - 1s 4ms/step - loss: 0.1204 - accuracy: 0.9641 - val_loss: 0.1519 - val_accuracy: 0.9546\n",
      "Epoch 19/20\n",
      "224/224 [==============================] - 1s 4ms/step - loss: 0.1153 - accuracy: 0.9642 - val_loss: 0.1413 - val_accuracy: 0.9582\n",
      "Epoch 20/20\n",
      "224/224 [==============================] - 1s 4ms/step - loss: 0.1128 - accuracy: 0.9666 - val_loss: 0.1458 - val_accuracy: 0.9584\n"
     ]
    },
    {
     "data": {
      "text/plain": [
       "<keras.callbacks.History at 0x166c08f0190>"
      ]
     },
     "execution_count": 100,
     "metadata": {},
     "output_type": "execute_result"
    }
   ],
   "source": [
    "x = X_train\n",
    "y = y_train\n",
    "epochs = 20\n",
    "batch_size = 200\n",
    "validation_data = (X_validation, y_validation) \n",
    "first_model.fit(\n",
    "    x = x,\n",
    "    y = y,\n",
    "    epochs = epochs,\n",
    "    batch_size = batch_size,\n",
    "    validation_data = validation_data\n",
    ")"
   ]
  },
  {
   "cell_type": "code",
   "execution_count": 101,
   "metadata": {},
   "outputs": [
    {
     "name": "stdout",
     "output_type": "stream",
     "text": [
      "438/438 [==============================] - 1s 2ms/step - loss: 0.1401 - accuracy: 0.9599\n"
     ]
    },
    {
     "data": {
      "text/plain": [
       "[0.14007484912872314, 0.959857165813446]"
      ]
     },
     "execution_count": 101,
     "metadata": {},
     "output_type": "execute_result"
    }
   ],
   "source": [
    "first_model.evaluate(X_test,y_test)"
   ]
  },
  {
   "cell_type": "code",
   "execution_count": 102,
   "metadata": {},
   "outputs": [],
   "source": [
    "from keras.datasets import fashion_mnist"
   ]
  },
  {
   "cell_type": "code",
   "execution_count": 112,
   "metadata": {},
   "outputs": [],
   "source": [
    "(X_train_full, y_train_full), (X_test, y_test)  = fashion_mnist.load_data()"
   ]
  },
  {
   "cell_type": "code",
   "execution_count": 113,
   "metadata": {},
   "outputs": [],
   "source": [
    "X = np.concatenate([X_train_full, X_test])\n",
    "y = np.concatenate([y_train_full,y_test])"
   ]
  },
  {
   "cell_type": "code",
   "execution_count": 115,
   "metadata": {},
   "outputs": [],
   "source": [
    "X_train_full ,X_test, y_train_full, y_test = train_test_split(X,y,test_size=.2)"
   ]
  },
  {
   "cell_type": "code",
   "execution_count": 116,
   "metadata": {},
   "outputs": [],
   "source": [
    "X_train, X_validation, y_train, y_validation =\\\n",
    "train_test_split(X_train_full,y_train_full,test_size=.2)"
   ]
  },
  {
   "cell_type": "code",
   "execution_count": 117,
   "metadata": {},
   "outputs": [
    {
     "data": {
      "text/plain": [
       "(44800, 28, 28)"
      ]
     },
     "execution_count": 117,
     "metadata": {},
     "output_type": "execute_result"
    }
   ],
   "source": [
    "X_train.shape"
   ]
  },
  {
   "cell_type": "code",
   "execution_count": 118,
   "metadata": {},
   "outputs": [],
   "source": [
    "X_train = X_train.reshape(-1,28*28)\n",
    "X_validation = X_validation.reshape(-1,28*28)\n",
    "X_test = X_test.reshape(-1,28*28)\n",
    "y_train = to_categorical(y_train)\n",
    "y_validation = to_categorical(y_validation)\n",
    "y_test = to_categorical(y_test)"
   ]
  },
  {
   "cell_type": "code",
   "execution_count": 120,
   "metadata": {},
   "outputs": [],
   "source": [
    "input_shape = X_train.shape[1:]\n",
    "output_shape = y_test.shape[-1]\n",
    "second_model = Sequential()\n",
    "second_model.add(Dense(512,activation='sigmoid',input_shape=input_shape))\n",
    "second_model.add(Dense(256,activation='relu'))\n",
    "second_model.add(Dense(output_shape,activation='softmax'))"
   ]
  },
  {
   "cell_type": "code",
   "execution_count": 121,
   "metadata": {},
   "outputs": [
    {
     "name": "stdout",
     "output_type": "stream",
     "text": [
      "Model: \"sequential_5\"\n",
      "_________________________________________________________________\n",
      " Layer (type)                Output Shape              Param #   \n",
      "=================================================================\n",
      " dense_18 (Dense)            (None, 512)               401920    \n",
      "                                                                 \n",
      " dense_19 (Dense)            (None, 256)               131328    \n",
      "                                                                 \n",
      " dense_20 (Dense)            (None, 10)                2570      \n",
      "                                                                 \n",
      "=================================================================\n",
      "Total params: 535,818\n",
      "Trainable params: 535,818\n",
      "Non-trainable params: 0\n",
      "_________________________________________________________________\n"
     ]
    }
   ],
   "source": [
    "second_model.summary()"
   ]
  },
  {
   "cell_type": "code",
   "execution_count": 122,
   "metadata": {},
   "outputs": [],
   "source": [
    "\n",
    "second_model.compile(\n",
    "    optimizer='adam',\n",
    "    loss = 'categorical_crossentropy',\n",
    "    metrics=['accuracy']\n",
    ")"
   ]
  },
  {
   "cell_type": "code",
   "execution_count": 123,
   "metadata": {},
   "outputs": [
    {
     "name": "stdout",
     "output_type": "stream",
     "text": [
      "Epoch 1/10\n",
      "700/700 [==============================] - 5s 6ms/step - loss: 0.8012 - accuracy: 0.6931 - val_loss: 0.7213 - val_accuracy: 0.7045\n",
      "Epoch 2/10\n",
      "700/700 [==============================] - 4s 6ms/step - loss: 0.7715 - accuracy: 0.6950 - val_loss: 0.7452 - val_accuracy: 0.7121\n",
      "Epoch 3/10\n",
      "700/700 [==============================] - 4s 6ms/step - loss: 0.7658 - accuracy: 0.6969 - val_loss: 0.6821 - val_accuracy: 0.7272\n",
      "Epoch 4/10\n",
      "700/700 [==============================] - 4s 6ms/step - loss: 0.7509 - accuracy: 0.7083 - val_loss: 0.7426 - val_accuracy: 0.7249\n",
      "Epoch 5/10\n",
      "700/700 [==============================] - 4s 6ms/step - loss: 0.7002 - accuracy: 0.7346 - val_loss: 0.6666 - val_accuracy: 0.7359\n",
      "Epoch 6/10\n",
      "700/700 [==============================] - 4s 6ms/step - loss: 0.7108 - accuracy: 0.7249 - val_loss: 0.7182 - val_accuracy: 0.7416\n",
      "Epoch 7/10\n",
      "700/700 [==============================] - 4s 6ms/step - loss: 0.7130 - accuracy: 0.7288 - val_loss: 0.7209 - val_accuracy: 0.7126\n",
      "Epoch 8/10\n",
      "700/700 [==============================] - 4s 6ms/step - loss: 0.6851 - accuracy: 0.7334 - val_loss: 0.6806 - val_accuracy: 0.7476\n",
      "Epoch 9/10\n",
      "700/700 [==============================] - 4s 6ms/step - loss: 0.6631 - accuracy: 0.7441 - val_loss: 0.6498 - val_accuracy: 0.7504\n",
      "Epoch 10/10\n",
      "700/700 [==============================] - 4s 6ms/step - loss: 0.6612 - accuracy: 0.7444 - val_loss: 0.6535 - val_accuracy: 0.7478\n"
     ]
    },
    {
     "data": {
      "text/plain": [
       "<keras.callbacks.History at 0x166afb7ae50>"
      ]
     },
     "execution_count": 123,
     "metadata": {},
     "output_type": "execute_result"
    }
   ],
   "source": [
    "second_model.fit(\n",
    "    X_train,\n",
    "    y_train,\n",
    "    epochs=10,\n",
    "    batch_size=64,\n",
    "    validation_data=(X_validation,y_validation)\n",
    ")"
   ]
  },
  {
   "cell_type": "code",
   "execution_count": 124,
   "metadata": {},
   "outputs": [
    {
     "name": "stdout",
     "output_type": "stream",
     "text": [
      "438/438 [==============================] - 1s 3ms/step - loss: 0.6477 - accuracy: 0.7497\n"
     ]
    },
    {
     "data": {
      "text/plain": [
       "[0.6476635336875916, 0.7497143149375916]"
      ]
     },
     "execution_count": 124,
     "metadata": {},
     "output_type": "execute_result"
    }
   ],
   "source": [
    "second_model.evaluate(X_test,y_test)"
   ]
  },
  {
   "cell_type": "code",
   "execution_count": 128,
   "metadata": {},
   "outputs": [
    {
     "data": {
      "text/plain": [
       "2"
      ]
     },
     "execution_count": 128,
     "metadata": {},
     "output_type": "execute_result"
    },
    {
     "data": {
      "text/plain": [
       "<matplotlib.image.AxesImage at 0x166be73fcd0>"
      ]
     },
     "execution_count": 128,
     "metadata": {},
     "output_type": "execute_result"
    },
    {
     "name": "stdout",
     "output_type": "stream",
     "text": [
      "1/1 [==============================] - 0s 27ms/step\n"
     ]
    },
    {
     "data": {
      "text/plain": [
       "2"
      ]
     },
     "execution_count": 128,
     "metadata": {},
     "output_type": "execute_result"
    },
    {
     "data": {
      "image/png": "[encoded data removed]",
      "text/plain": [
       "<Figure size 432x288 with 1 Axes>"
      ]
     },
     "metadata": {
      "needs_background": "light"
     },
     "output_type": "display_data"
    }
   ],
   "source": [
    "np.argmax(y_test[0])\n",
    "plt.imshow(X_test[0].reshape(28,28))\n",
    "np.argmax(second_model.predict(X_test[[0]]))"
   ]
  },
  {
   "cell_type": "code",
   "execution_count": null,
   "metadata": {},
   "outputs": [],
   "source": []
  }
 ],
 "metadata": {
  "kernelspec": {
   "display_name": "tensorflow",
   "language": "python",
   "name": "tensorflow"
  },
  "language_info": {
   "codemirror_mode": {
    "name": "ipython",
    "version": 3
   },
   "file_extension": ".py",
   "mimetype": "text/x-python",
   "name": "python",
   "nbconvert_exporter": "python",
   "pygments_lexer": "ipython3",
   "version": "3.8.5"
  }
 },
 "nbformat": 4,
 "nbformat_minor": 4
}
