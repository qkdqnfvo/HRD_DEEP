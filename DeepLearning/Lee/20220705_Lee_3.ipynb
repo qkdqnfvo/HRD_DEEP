{
 "cells": [
  {
   "cell_type": "code",
   "execution_count": 7,
   "metadata": {},
   "outputs": [],
   "source": [
    "from IPython.core.interactiveshell import InteractiveShell\n",
    "InteractiveShell.ast_node_interactivity = \"all\"\n",
    "\n",
    "import numpy as np\n",
    "import pandas as pd\n",
    "\n",
    "from sklearn.linear_model import LinearRegression\n",
    "\n",
    "from tensorflow import keras\n",
    "from keras.datasets import boston_housing"
   ]
  },
  {
   "cell_type": "code",
   "execution_count": 2,
   "metadata": {},
   "outputs": [
    {
     "name": "stdout",
     "output_type": "stream",
     "text": [
      "Downloading data from https://storage.googleapis.com/tensorflow/tf-keras-datasets/boston_housing.npz\n",
      "57026/57026 [==============================] - 0s 1us/step\n"
     ]
    }
   ],
   "source": [
    "(X_train,y_train),(X_test,y_test) = boston_housing.load_data()"
   ]
  },
  {
   "cell_type": "code",
   "execution_count": 5,
   "metadata": {},
   "outputs": [
    {
     "data": {
      "text/plain": [
       "(404, 13)"
      ]
     },
     "execution_count": 5,
     "metadata": {},
     "output_type": "execute_result"
    },
    {
     "data": {
      "text/plain": [
       "(404,)"
      ]
     },
     "execution_count": 5,
     "metadata": {},
     "output_type": "execute_result"
    }
   ],
   "source": [
    "X_train.shape\n",
    "y_train.shape"
   ]
  },
  {
   "cell_type": "code",
   "execution_count": 8,
   "metadata": {},
   "outputs": [],
   "source": [
    "l_model = LinearRegression()"
   ]
  },
  {
   "cell_type": "code",
   "execution_count": 9,
   "metadata": {},
   "outputs": [
    {
     "data": {
      "text/plain": [
       "LinearRegression()"
      ]
     },
     "execution_count": 9,
     "metadata": {},
     "output_type": "execute_result"
    }
   ],
   "source": [
    "l_model.fit(X_train,y_train)"
   ]
  },
  {
   "cell_type": "code",
   "execution_count": 10,
   "metadata": {},
   "outputs": [
    {
     "data": {
      "text/plain": [
       "0.7399643695249463"
      ]
     },
     "execution_count": 10,
     "metadata": {},
     "output_type": "execute_result"
    }
   ],
   "source": [
    "l_model.score(X_train,y_train)"
   ]
  },
  {
   "cell_type": "code",
   "execution_count": 14,
   "metadata": {},
   "outputs": [
    {
     "data": {
      "text/plain": [
       "94.2864759055754"
      ]
     },
     "execution_count": 14,
     "metadata": {},
     "output_type": "execute_result"
    }
   ],
   "source": [
    "np.sqrt(np.sum(np.square(l_model.predict(X_train)-y_train)))"
   ]
  },
  {
   "cell_type": "code",
   "execution_count": 23,
   "metadata": {},
   "outputs": [],
   "source": [
    "d_model = keras.models.Sequential(\n",
    "    [\n",
    "        keras.layers.Dense(10,activation='relu',input_shape=(13,)),\n",
    "        keras.layers.BatchNormalization(),\n",
    "        keras.layers.Dense(1)\n",
    "    ]\n",
    ")"
   ]
  },
  {
   "cell_type": "code",
   "execution_count": 24,
   "metadata": {},
   "outputs": [],
   "source": [
    "d_model.compile(\n",
    "    optimizer='sgd',\n",
    "    loss = 'mse',\n",
    "    metrics=['mse']\n",
    ")"
   ]
  },
  {
   "cell_type": "code",
   "execution_count": 25,
   "metadata": {},
   "outputs": [
    {
     "name": "stdout",
     "output_type": "stream",
     "text": [
      "Epoch 1/20\n",
      "13/13 [==============================] - 0s 10ms/step - loss: 221.4015 - mse: 221.4015 - val_loss: 143.0110 - val_mse: 143.0110\n",
      "Epoch 2/20\n",
      "13/13 [==============================] - 0s 4ms/step - loss: 67.7461 - mse: 67.7461 - val_loss: 66.1629 - val_mse: 66.1629\n",
      "Epoch 3/20\n",
      "13/13 [==============================] - 0s 4ms/step - loss: 63.6367 - mse: 63.6367 - val_loss: 158.9725 - val_mse: 158.9725\n",
      "Epoch 4/20\n",
      "13/13 [==============================] - 0s 4ms/step - loss: 64.6344 - mse: 64.6344 - val_loss: 495.9120 - val_mse: 495.9120\n",
      "Epoch 5/20\n",
      "13/13 [==============================] - 0s 4ms/step - loss: 70.5260 - mse: 70.5260 - val_loss: 213.6405 - val_mse: 213.6405\n",
      "Epoch 6/20\n",
      "13/13 [==============================] - 0s 4ms/step - loss: 67.5518 - mse: 67.5518 - val_loss: 133.7376 - val_mse: 133.7376\n",
      "Epoch 7/20\n",
      "13/13 [==============================] - 0s 4ms/step - loss: 63.1792 - mse: 63.1792 - val_loss: 90.0138 - val_mse: 90.0138\n",
      "Epoch 8/20\n",
      "13/13 [==============================] - 0s 4ms/step - loss: 66.1396 - mse: 66.1396 - val_loss: 63.7925 - val_mse: 63.7925\n",
      "Epoch 9/20\n",
      "13/13 [==============================] - 0s 4ms/step - loss: 61.5522 - mse: 61.5522 - val_loss: 101.9397 - val_mse: 101.9397\n",
      "Epoch 10/20\n",
      "13/13 [==============================] - 0s 4ms/step - loss: 64.9430 - mse: 64.9430 - val_loss: 90.9242 - val_mse: 90.9242\n",
      "Epoch 11/20\n",
      "13/13 [==============================] - 0s 5ms/step - loss: 60.3592 - mse: 60.3592 - val_loss: 68.8290 - val_mse: 68.8290\n",
      "Epoch 12/20\n",
      "13/13 [==============================] - 0s 4ms/step - loss: 58.6741 - mse: 58.6741 - val_loss: 84.3042 - val_mse: 84.3042\n",
      "Epoch 13/20\n",
      "13/13 [==============================] - 0s 5ms/step - loss: 59.8146 - mse: 59.8146 - val_loss: 117.9672 - val_mse: 117.9672\n",
      "Epoch 14/20\n",
      "13/13 [==============================] - 0s 5ms/step - loss: 60.0334 - mse: 60.0334 - val_loss: 73.2825 - val_mse: 73.2825\n",
      "Epoch 15/20\n",
      "13/13 [==============================] - 0s 4ms/step - loss: 59.4191 - mse: 59.4191 - val_loss: 73.6724 - val_mse: 73.6724\n",
      "Epoch 16/20\n",
      "13/13 [==============================] - 0s 4ms/step - loss: 58.0993 - mse: 58.0993 - val_loss: 281.5646 - val_mse: 281.5646\n",
      "Epoch 17/20\n",
      "13/13 [==============================] - 0s 5ms/step - loss: 68.7073 - mse: 68.7073 - val_loss: 312.9053 - val_mse: 312.9053\n",
      "Epoch 18/20\n",
      "13/13 [==============================] - 0s 4ms/step - loss: 67.0723 - mse: 67.0723 - val_loss: 197.4139 - val_mse: 197.4139\n",
      "Epoch 19/20\n",
      "13/13 [==============================] - 0s 4ms/step - loss: 65.6192 - mse: 65.6192 - val_loss: 122.7943 - val_mse: 122.7943\n",
      "Epoch 20/20\n",
      "13/13 [==============================] - 0s 5ms/step - loss: 63.4570 - mse: 63.4570 - val_loss: 90.9952 - val_mse: 90.9952\n"
     ]
    },
    {
     "data": {
      "text/plain": [
       "<keras.callbacks.History at 0x29695d29250>"
      ]
     },
     "execution_count": 25,
     "metadata": {},
     "output_type": "execute_result"
    }
   ],
   "source": [
    "d_model.fit(X_train,\n",
    "           y_train,\n",
    "           epochs=20,\n",
    "           batch_size=32,\n",
    "           validation_data=(X_test,y_test))"
   ]
  },
  {
   "cell_type": "code",
   "execution_count": null,
   "metadata": {},
   "outputs": [],
   "source": []
  }
 ],
 "metadata": {
  "kernelspec": {
   "display_name": "tensorflow",
   "language": "python",
   "name": "tensorflow"
  },
  "language_info": {
   "codemirror_mode": {
    "name": "ipython",
    "version": 3
   },
   "file_extension": ".py",
   "mimetype": "text/x-python",
   "name": "python",
   "nbconvert_exporter": "python",
   "pygments_lexer": "ipython3",
   "version": "3.8.5"
  }
 },
 "nbformat": 4,
 "nbformat_minor": 4
}
