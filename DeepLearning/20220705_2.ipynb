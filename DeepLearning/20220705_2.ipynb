{
 "cells": [
  {
   "cell_type": "code",
   "execution_count": 8,
   "metadata": {},
   "outputs": [],
   "source": [
    "import numpy as np\n",
    "import pandas as pd\n",
    "\n",
    "from tensorflow.keras.models import Sequential, Model\n",
    "from tensorflow.keras.layers import Dense, BatchNormalization, Dropout, Input\n",
    "from tensorflow.keras.utils import to_categorical\n",
    "from tensorflow.keras.datasets import boston_housing\n",
    "\n",
    "from sklearn.model_selection import train_test_split\n",
    "from sklearn.linear_model import LinearRegression\n",
    "\n",
    "\n",
    "from IPython.core.interactiveshell import InteractiveShell\n",
    "InteractiveShell.ast_node_interactivity = \"all\""
   ]
  },
  {
   "cell_type": "code",
   "execution_count": 5,
   "metadata": {},
   "outputs": [],
   "source": [
    "(X_train, Y_train), (X_test, Y_test) = boston_housing.load_data()"
   ]
  },
  {
   "cell_type": "code",
   "execution_count": 12,
   "metadata": {},
   "outputs": [
    {
     "data": {
      "text/html": [
       "<style>#sk-container-id-4 {color: black;background-color: white;}#sk-container-id-4 pre{padding: 0;}#sk-container-id-4 div.sk-toggleable {background-color: white;}#sk-container-id-4 label.sk-toggleable__label {cursor: pointer;display: block;width: 100%;margin-bottom: 0;padding: 0.3em;box-sizing: border-box;text-align: center;}#sk-container-id-4 label.sk-toggleable__label-arrow:before {content: \"▸\";float: left;margin-right: 0.25em;color: #696969;}#sk-container-id-4 label.sk-toggleable__label-arrow:hover:before {color: black;}#sk-container-id-4 div.sk-estimator:hover label.sk-toggleable__label-arrow:before {color: black;}#sk-container-id-4 div.sk-toggleable__content {max-height: 0;max-width: 0;overflow: hidden;text-align: left;background-color: #f0f8ff;}#sk-container-id-4 div.sk-toggleable__content pre {margin: 0.2em;color: black;border-radius: 0.25em;background-color: #f0f8ff;}#sk-container-id-4 input.sk-toggleable__control:checked~div.sk-toggleable__content {max-height: 200px;max-width: 100%;overflow: auto;}#sk-container-id-4 input.sk-toggleable__control:checked~label.sk-toggleable__label-arrow:before {content: \"▾\";}#sk-container-id-4 div.sk-estimator input.sk-toggleable__control:checked~label.sk-toggleable__label {background-color: #d4ebff;}#sk-container-id-4 div.sk-label input.sk-toggleable__control:checked~label.sk-toggleable__label {background-color: #d4ebff;}#sk-container-id-4 input.sk-hidden--visually {border: 0;clip: rect(1px 1px 1px 1px);clip: rect(1px, 1px, 1px, 1px);height: 1px;margin: -1px;overflow: hidden;padding: 0;position: absolute;width: 1px;}#sk-container-id-4 div.sk-estimator {font-family: monospace;background-color: #f0f8ff;border: 1px dotted black;border-radius: 0.25em;box-sizing: border-box;margin-bottom: 0.5em;}#sk-container-id-4 div.sk-estimator:hover {background-color: #d4ebff;}#sk-container-id-4 div.sk-parallel-item::after {content: \"\";width: 100%;border-bottom: 1px solid gray;flex-grow: 1;}#sk-container-id-4 div.sk-label:hover label.sk-toggleable__label {background-color: #d4ebff;}#sk-container-id-4 div.sk-serial::before {content: \"\";position: absolute;border-left: 1px solid gray;box-sizing: border-box;top: 0;bottom: 0;left: 50%;z-index: 0;}#sk-container-id-4 div.sk-serial {display: flex;flex-direction: column;align-items: center;background-color: white;padding-right: 0.2em;padding-left: 0.2em;position: relative;}#sk-container-id-4 div.sk-item {position: relative;z-index: 1;}#sk-container-id-4 div.sk-parallel {display: flex;align-items: stretch;justify-content: center;background-color: white;position: relative;}#sk-container-id-4 div.sk-item::before, #sk-container-id-4 div.sk-parallel-item::before {content: \"\";position: absolute;border-left: 1px solid gray;box-sizing: border-box;top: 0;bottom: 0;left: 50%;z-index: -1;}#sk-container-id-4 div.sk-parallel-item {display: flex;flex-direction: column;z-index: 1;position: relative;background-color: white;}#sk-container-id-4 div.sk-parallel-item:first-child::after {align-self: flex-end;width: 50%;}#sk-container-id-4 div.sk-parallel-item:last-child::after {align-self: flex-start;width: 50%;}#sk-container-id-4 div.sk-parallel-item:only-child::after {width: 0;}#sk-container-id-4 div.sk-dashed-wrapped {border: 1px dashed gray;margin: 0 0.4em 0.5em 0.4em;box-sizing: border-box;padding-bottom: 0.4em;background-color: white;}#sk-container-id-4 div.sk-label label {font-family: monospace;font-weight: bold;display: inline-block;line-height: 1.2em;}#sk-container-id-4 div.sk-label-container {text-align: center;}#sk-container-id-4 div.sk-container {/* jupyter's `normalize.less` sets `[hidden] { display: none; }` but bootstrap.min.css set `[hidden] { display: none !important; }` so we also need the `!important` here to be able to override the default hidden behavior on the sphinx rendered scikit-learn.org. See: https://github.com/scikit-learn/scikit-learn/issues/21755 */display: inline-block !important;position: relative;}#sk-container-id-4 div.sk-text-repr-fallback {display: none;}</style><div id=\"sk-container-id-4\" class=\"sk-top-container\"><div class=\"sk-text-repr-fallback\"><pre>LinearRegression()</pre><b>In a Jupyter environment, please rerun this cell to show the HTML representation or trust the notebook. <br />On GitHub, the HTML representation is unable to render, please try loading this page with nbviewer.org.</b></div><div class=\"sk-container\" hidden><div class=\"sk-item\"><div class=\"sk-estimator sk-toggleable\"><input class=\"sk-toggleable__control sk-hidden--visually\" id=\"sk-estimator-id-4\" type=\"checkbox\" checked><label for=\"sk-estimator-id-4\" class=\"sk-toggleable__label sk-toggleable__label-arrow\">LinearRegression</label><div class=\"sk-toggleable__content\"><pre>LinearRegression()</pre></div></div></div></div></div>"
      ],
      "text/plain": [
       "LinearRegression()"
      ]
     },
     "execution_count": 12,
     "metadata": {},
     "output_type": "execute_result"
    },
    {
     "data": {
      "text/plain": [
       "0.721353593462154"
      ]
     },
     "execution_count": 12,
     "metadata": {},
     "output_type": "execute_result"
    },
    {
     "data": {
      "text/plain": [
       "0.7399643695249463"
      ]
     },
     "execution_count": 12,
     "metadata": {},
     "output_type": "execute_result"
    }
   ],
   "source": [
    "l_model = LinearRegression()\n",
    "l_model.fit(X_train, Y_train)\n",
    "l_model.score(X_test, Y_test)\n",
    "l_model.score(X_train, Y_train)"
   ]
  },
  {
   "cell_type": "code",
   "execution_count": 13,
   "metadata": {},
   "outputs": [
    {
     "data": {
      "text/plain": [
       "94.28647590557539"
      ]
     },
     "execution_count": 13,
     "metadata": {},
     "output_type": "execute_result"
    }
   ],
   "source": [
    "np.sqrt(np.sum(np.square(l_model.predict(X_train) - Y_train)))"
   ]
  },
  {
   "cell_type": "code",
   "execution_count": 18,
   "metadata": {},
   "outputs": [
    {
     "name": "stdout",
     "output_type": "stream",
     "text": [
      "Epoch 1/20\n",
      "13/13 [==============================] - 1s 22ms/step - loss: 225.3833 - mae: 11.3000 - val_loss: 331.1841 - val_mae: 16.8245\n",
      "Epoch 2/20\n",
      "13/13 [==============================] - 0s 12ms/step - loss: 62.8964 - mae: 5.5038 - val_loss: 60.1191 - val_mae: 5.4271\n",
      "Epoch 3/20\n",
      "13/13 [==============================] - 0s 9ms/step - loss: 57.9601 - mae: 5.4115 - val_loss: 109.7233 - val_mae: 8.0644\n",
      "Epoch 4/20\n",
      "13/13 [==============================] - 0s 8ms/step - loss: 65.0012 - mae: 5.5836 - val_loss: 220.1170 - val_mae: 11.2627\n",
      "Epoch 5/20\n",
      "13/13 [==============================] - 0s 12ms/step - loss: 62.1683 - mae: 5.4354 - val_loss: 161.7186 - val_mae: 11.4803\n",
      "Epoch 6/20\n",
      "13/13 [==============================] - 0s 8ms/step - loss: 57.5430 - mae: 5.3819 - val_loss: 264.8045 - val_mae: 14.6118\n",
      "Epoch 7/20\n",
      "13/13 [==============================] - 0s 11ms/step - loss: 60.4525 - mae: 5.3836 - val_loss: 574.1599 - val_mae: 21.1492\n",
      "Epoch 8/20\n",
      "13/13 [==============================] - 0s 8ms/step - loss: 58.4307 - mae: 5.4599 - val_loss: 170.0899 - val_mae: 11.0928\n",
      "Epoch 9/20\n",
      "13/13 [==============================] - 0s 9ms/step - loss: 57.8037 - mae: 5.1853 - val_loss: 50.7552 - val_mae: 4.9511\n",
      "Epoch 10/20\n",
      "13/13 [==============================] - 0s 15ms/step - loss: 59.0426 - mae: 5.6265 - val_loss: 84.5782 - val_mae: 6.6676\n",
      "Epoch 11/20\n",
      "13/13 [==============================] - 0s 14ms/step - loss: 57.8245 - mae: 5.2659 - val_loss: 209.0911 - val_mae: 12.6321\n",
      "Epoch 12/20\n",
      "13/13 [==============================] - 0s 8ms/step - loss: 52.9954 - mae: 4.8541 - val_loss: 202.0655 - val_mae: 12.4721\n",
      "Epoch 13/20\n",
      "13/13 [==============================] - 0s 8ms/step - loss: 52.0557 - mae: 4.9620 - val_loss: 90.2599 - val_mae: 7.1328\n",
      "Epoch 14/20\n",
      "13/13 [==============================] - 0s 8ms/step - loss: 50.3296 - mae: 4.9020 - val_loss: 98.9486 - val_mae: 7.6293\n",
      "Epoch 15/20\n",
      "13/13 [==============================] - 0s 8ms/step - loss: 58.2123 - mae: 5.3473 - val_loss: 644.1364 - val_mae: 23.2708\n",
      "Epoch 16/20\n",
      "13/13 [==============================] - 0s 8ms/step - loss: 55.6763 - mae: 5.3360 - val_loss: 217.5368 - val_mae: 12.4215\n",
      "Epoch 17/20\n",
      "13/13 [==============================] - 0s 8ms/step - loss: 49.2686 - mae: 4.7947 - val_loss: 69.6500 - val_mae: 5.9434\n",
      "Epoch 18/20\n",
      "13/13 [==============================] - 0s 15ms/step - loss: 55.4469 - mae: 5.2127 - val_loss: 66.6141 - val_mae: 6.8349\n",
      "Epoch 19/20\n",
      "13/13 [==============================] - 0s 11ms/step - loss: 59.0980 - mae: 5.2669 - val_loss: 51.0184 - val_mae: 5.4355\n",
      "Epoch 20/20\n",
      "13/13 [==============================] - 0s 10ms/step - loss: 56.3277 - mae: 5.2331 - val_loss: 51.4063 - val_mae: 5.3171\n"
     ]
    }
   ],
   "source": [
    "input_shape = X_train.shape[1:]\n",
    "d_model = Sequential(\n",
    "    [\n",
    "        Dense(10, activation='linear', input_shape=input_shape),\n",
    "        # Dense(hid, activation='linear'),\n",
    "        # Dense(1, activation='linear'),\n",
    "        BatchNormalization(),\n",
    "        Dense(1, activation='linear')\n",
    "    ]\n",
    ")\n",
    "d_model.compile(optimizer='sgd', loss='mse', metrics=['mae'])\n",
    "history = d_model.fit(X_train, Y_train, epochs=20, batch_size=32, validation_data=(X_test, Y_test))"
   ]
  },
  {
   "cell_type": "code",
   "execution_count": 25,
   "metadata": {},
   "outputs": [
    {
     "name": "stdout",
     "output_type": "stream",
     "text": [
      "13/13 [==============================] - 0s 5ms/step - loss: 50.3790 - mae: 5.3860\n"
     ]
    },
    {
     "data": {
      "text/plain": [
       "[50.378990173339844, 5.385953903198242]"
      ]
     },
     "execution_count": 25,
     "metadata": {},
     "output_type": "execute_result"
    },
    {
     "data": {
      "text/plain": [
       "998.1730829197171"
      ]
     },
     "execution_count": 25,
     "metadata": {},
     "output_type": "execute_result"
    }
   ],
   "source": [
    "d_model.evaluate(X_train, Y_train)\n",
    "np.sqrt(np.sum(np.square(d_model.predict(X_test) - Y_test)))"
   ]
  }
 ],
 "metadata": {
  "kernelspec": {
   "display_name": "Python 3.8.0 ('hrd')",
   "language": "python",
   "name": "python3"
  },
  "language_info": {
   "codemirror_mode": {
    "name": "ipython",
    "version": 3
   },
   "file_extension": ".py",
   "mimetype": "text/x-python",
   "name": "python",
   "nbconvert_exporter": "python",
   "pygments_lexer": "ipython3",
   "version": "3.8.0"
  },
  "orig_nbformat": 4,
  "vscode": {
   "interpreter": {
    "hash": "0c2e67704c6d152f142b8c3106687cd2194e93bf9cff81b34c8c3689f569f836"
   }
  }
 },
 "nbformat": 4,
 "nbformat_minor": 2
}
