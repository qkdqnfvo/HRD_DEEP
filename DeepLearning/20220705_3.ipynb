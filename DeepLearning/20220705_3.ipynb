{
 "cells": [
  {
   "cell_type": "code",
   "execution_count": 1,
   "metadata": {},
   "outputs": [],
   "source": [
    "### overfitting"
   ]
  },
  {
   "cell_type": "code",
   "execution_count": 3,
   "metadata": {},
   "outputs": [],
   "source": [
    "import numpy as np\n",
    "import pandas as pd\n",
    "\n",
    "from tensorflow.keras.models import Sequential, Model\n",
    "from tensorflow.keras.layers import Dense, BatchNormalization, Dropout, Input\n",
    "from tensorflow.keras.utils import to_categorical\n",
    "from tensorflow.keras.datasets import mnist\n",
    "\n",
    "from sklearn.model_selection import train_test_split\n",
    "\n",
    "\n",
    "from IPython.core.interactiveshell import InteractiveShell\n",
    "InteractiveShell.ast_node_interactivity = \"all\""
   ]
  },
  {
   "cell_type": "code",
   "execution_count": 14,
   "metadata": {},
   "outputs": [],
   "source": [
    "(X_train, Y_train), (X_test, Y_test) = mnist.load_data()\n",
    "X = np.concatenate([X_train, X_test])\n",
    "Y = np.concatenate([Y_train, Y_test])\n",
    "\n",
    "X_train, X_test, Y_train, Y_test = train_test_split(X, Y, test_size=0.01)\n",
    "X1, X2, Y1, Y2 = train_test_split(X_test, Y_test)\n",
    "\n",
    "X1 = X1.reshape(-1, 28*28)\n",
    "X2 = X2.reshape(-1, 28*28)\n",
    "\n",
    "Y1 = to_categorical(Y1)\n",
    "Y2 = to_categorical(Y2)"
   ]
  },
  {
   "cell_type": "code",
   "execution_count": 15,
   "metadata": {},
   "outputs": [
    {
     "name": "stdout",
     "output_type": "stream",
     "text": [
      "Epoch 1/30\n",
      "17/17 [==============================] - 2s 26ms/step - loss: 31.2565 - accuracy: 0.4933 - val_loss: 9.6546 - val_accuracy: 0.6514\n",
      "Epoch 2/30\n",
      "17/17 [==============================] - 0s 8ms/step - loss: 4.0415 - accuracy: 0.7981 - val_loss: 5.6233 - val_accuracy: 0.7600\n",
      "Epoch 3/30\n",
      "17/17 [==============================] - 0s 11ms/step - loss: 1.4910 - accuracy: 0.9086 - val_loss: 6.1262 - val_accuracy: 0.7714\n",
      "Epoch 4/30\n",
      "17/17 [==============================] - 0s 8ms/step - loss: 0.6630 - accuracy: 0.9486 - val_loss: 6.6343 - val_accuracy: 0.7600\n",
      "Epoch 5/30\n",
      "17/17 [==============================] - 0s 13ms/step - loss: 0.9457 - accuracy: 0.9333 - val_loss: 6.7462 - val_accuracy: 0.7886\n",
      "Epoch 6/30\n",
      "17/17 [==============================] - 0s 8ms/step - loss: 0.9346 - accuracy: 0.9467 - val_loss: 4.3477 - val_accuracy: 0.7886\n",
      "Epoch 7/30\n",
      "17/17 [==============================] - 0s 7ms/step - loss: 0.4657 - accuracy: 0.9733 - val_loss: 5.0514 - val_accuracy: 0.7829\n",
      "Epoch 8/30\n",
      "17/17 [==============================] - 0s 8ms/step - loss: 0.2963 - accuracy: 0.9695 - val_loss: 6.0572 - val_accuracy: 0.7714\n",
      "Epoch 9/30\n",
      "17/17 [==============================] - 0s 7ms/step - loss: 0.4634 - accuracy: 0.9619 - val_loss: 4.7690 - val_accuracy: 0.8057\n",
      "Epoch 10/30\n",
      "17/17 [==============================] - 0s 8ms/step - loss: 0.0944 - accuracy: 0.9829 - val_loss: 5.2442 - val_accuracy: 0.8114\n",
      "Epoch 11/30\n",
      "17/17 [==============================] - 0s 7ms/step - loss: 0.0530 - accuracy: 0.9924 - val_loss: 5.8231 - val_accuracy: 0.8057\n",
      "Epoch 12/30\n",
      "17/17 [==============================] - 0s 7ms/step - loss: 0.0232 - accuracy: 0.9943 - val_loss: 5.1479 - val_accuracy: 0.8057\n",
      "Epoch 13/30\n",
      "17/17 [==============================] - 0s 8ms/step - loss: 0.0412 - accuracy: 0.9886 - val_loss: 4.7709 - val_accuracy: 0.8343\n",
      "Epoch 14/30\n",
      "17/17 [==============================] - 0s 8ms/step - loss: 0.0698 - accuracy: 0.9962 - val_loss: 7.8202 - val_accuracy: 0.7771\n",
      "Epoch 15/30\n",
      "17/17 [==============================] - 0s 9ms/step - loss: 0.4565 - accuracy: 0.9752 - val_loss: 5.9024 - val_accuracy: 0.8114\n",
      "Epoch 16/30\n",
      "17/17 [==============================] - 0s 10ms/step - loss: 0.1383 - accuracy: 0.9886 - val_loss: 5.7967 - val_accuracy: 0.8057\n",
      "Epoch 17/30\n",
      "17/17 [==============================] - 0s 26ms/step - loss: 0.0854 - accuracy: 0.9905 - val_loss: 5.4284 - val_accuracy: 0.8229\n",
      "Epoch 18/30\n",
      "17/17 [==============================] - 0s 10ms/step - loss: 0.0716 - accuracy: 0.9943 - val_loss: 5.6892 - val_accuracy: 0.8171\n",
      "Epoch 19/30\n",
      "17/17 [==============================] - 0s 8ms/step - loss: 0.1175 - accuracy: 0.9962 - val_loss: 6.3115 - val_accuracy: 0.8229\n",
      "Epoch 20/30\n",
      "17/17 [==============================] - 0s 9ms/step - loss: 0.0311 - accuracy: 0.9962 - val_loss: 5.9589 - val_accuracy: 0.8114\n",
      "Epoch 21/30\n",
      "17/17 [==============================] - 0s 8ms/step - loss: 0.0193 - accuracy: 0.9943 - val_loss: 5.7947 - val_accuracy: 0.8171\n",
      "Epoch 22/30\n",
      "17/17 [==============================] - 0s 8ms/step - loss: 0.4605 - accuracy: 0.9829 - val_loss: 6.1430 - val_accuracy: 0.7886\n",
      "Epoch 23/30\n",
      "17/17 [==============================] - 0s 13ms/step - loss: 0.3943 - accuracy: 0.9733 - val_loss: 6.2557 - val_accuracy: 0.7714\n",
      "Epoch 24/30\n",
      "17/17 [==============================] - 0s 8ms/step - loss: 0.7050 - accuracy: 0.9448 - val_loss: 3.8110 - val_accuracy: 0.8286\n",
      "Epoch 25/30\n",
      "17/17 [==============================] - 0s 7ms/step - loss: 0.4301 - accuracy: 0.9752 - val_loss: 5.0191 - val_accuracy: 0.8343\n",
      "Epoch 26/30\n",
      "17/17 [==============================] - 0s 7ms/step - loss: 0.3349 - accuracy: 0.9676 - val_loss: 5.1286 - val_accuracy: 0.8571\n",
      "Epoch 27/30\n",
      "17/17 [==============================] - 0s 7ms/step - loss: 0.2104 - accuracy: 0.9829 - val_loss: 4.9761 - val_accuracy: 0.8457\n",
      "Epoch 28/30\n",
      "17/17 [==============================] - 0s 8ms/step - loss: 0.2526 - accuracy: 0.9829 - val_loss: 5.4547 - val_accuracy: 0.8286\n",
      "Epoch 29/30\n",
      "17/17 [==============================] - 0s 7ms/step - loss: 0.3041 - accuracy: 0.9790 - val_loss: 6.1458 - val_accuracy: 0.8000\n",
      "Epoch 30/30\n",
      "17/17 [==============================] - 0s 7ms/step - loss: 0.7019 - accuracy: 0.9676 - val_loss: 5.2207 - val_accuracy: 0.8400\n"
     ]
    }
   ],
   "source": [
    "model = Sequential()\n",
    "model.add(Dense(512, activation='relu', input_shape=X1.shape[1:]))\n",
    "model.add(Dense(256, activation='relu'))\n",
    "model.add(Dense(128, activation='relu'))\n",
    "model.add(Dense(Y1.shape[-1], activation='softmax'))\n",
    "model.compile(optimizer='adam', loss='categorical_crossentropy', metrics=['accuracy'])\n",
    "history = model.fit(X1, Y1, epochs=30, validation_data=(X2, Y2))\n"
   ]
  },
  {
   "cell_type": "code",
   "execution_count": 16,
   "metadata": {},
   "outputs": [
    {
     "name": "stdout",
     "output_type": "stream",
     "text": [
      "2166/2166 [==============================] - 12s 6ms/step - loss: 6.2567 - accuracy: 0.8339\n"
     ]
    },
    {
     "data": {
      "text/plain": [
       "[6.256659030914307, 0.8339249491691589]"
      ]
     },
     "execution_count": 16,
     "metadata": {},
     "output_type": "execute_result"
    }
   ],
   "source": [
    "X_val = X_train.copy()\n",
    "Y_val = Y_train.copy()\n",
    "X_val = X_val.reshape(-1, 28*28)\n",
    "Y_val = to_categorical(Y_val)\n",
    "model.evaluate(X_val, Y_val)"
   ]
  }
 ],
 "metadata": {
  "kernelspec": {
   "display_name": "Python 3.8.0 ('hrd')",
   "language": "python",
   "name": "python3"
  },
  "language_info": {
   "codemirror_mode": {
    "name": "ipython",
    "version": 3
   },
   "file_extension": ".py",
   "mimetype": "text/x-python",
   "name": "python",
   "nbconvert_exporter": "python",
   "pygments_lexer": "ipython3",
   "version": "3.8.0"
  },
  "orig_nbformat": 4,
  "vscode": {
   "interpreter": {
    "hash": "0c2e67704c6d152f142b8c3106687cd2194e93bf9cff81b34c8c3689f569f836"
   }
  }
 },
 "nbformat": 4,
 "nbformat_minor": 2
}
