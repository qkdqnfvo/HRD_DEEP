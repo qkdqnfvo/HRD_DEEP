{
 "cells": [
  {
   "cell_type": "code",
   "execution_count": 36,
   "metadata": {},
   "outputs": [],
   "source": [
    "import numpy as np\n",
    "import pandas as pd\n",
    "\n",
    "from tensorflow.keras.models import Sequential, Model\n",
    "from tensorflow.keras.layers import Dense, BatchNormalization, Dropout, Input\n",
    "from tensorflow.keras.utils import to_categorical\n",
    "from tensorflow.keras.datasets import reuters\n",
    "\n",
    "from sklearn.model_selection import train_test_split\n",
    "\n",
    "\n",
    "\n",
    "from IPython.core.interactiveshell import InteractiveShell\n",
    "InteractiveShell.ast_node_interactivity = \"all\""
   ]
  },
  {
   "cell_type": "code",
   "execution_count": null,
   "metadata": {},
   "outputs": [],
   "source": [
    "################################ 3.5"
   ]
  },
  {
   "cell_type": "code",
   "execution_count": 9,
   "metadata": {},
   "outputs": [],
   "source": [
    "(X_train, Y_train), (X_test, Y_test) = reuters.load_data(num_words=10000)"
   ]
  },
  {
   "cell_type": "code",
   "execution_count": 25,
   "metadata": {},
   "outputs": [],
   "source": [
    "word_index = reuters.get_word_index()\n",
    "index_word = {j: i for i, j in word_index.items()}\n",
    "\n",
    "word = []\n",
    "for i in X_train[0]: \n",
    "    word.append(index_word.get(i))\n",
    "' '.join(word)\n",
    "\n",
    "\n",
    "def vectorize_sequences(sequences, dimension=10000):\n",
    "    results = np.zeros((len(sequences), dimension))\n",
    "    for i, sequence in enumerate(sequences):\n",
    "        results[i, sequence] = 1.\n",
    "    return results\n",
    "\n",
    "X_train = vectorize_sequences(X_train)\n",
    "X_test = vectorize_sequences(X_test)\n",
    "\n",
    "X_train, X_valid, Y_train, Y_valid = train_test_split(X_train, Y_train, test_size=0.2)\n",
    "\n",
    "Y_train = to_categorical(Y_train)\n",
    "Y_test = to_categorical(Y_test)\n",
    "Y_valid = to_categorical(Y_valid)"
   ]
  },
  {
   "cell_type": "code",
   "execution_count": 38,
   "metadata": {},
   "outputs": [
    {
     "name": "stdout",
     "output_type": "stream",
     "text": [
      "Epoch 1/20\n",
      "15/15 [==============================] - 2s 57ms/step - loss: 2.7873 - accuracy: 0.4834 - val_loss: 1.8923 - val_accuracy: 0.6266\n",
      "Epoch 2/20\n",
      "15/15 [==============================] - 1s 41ms/step - loss: 1.5183 - accuracy: 0.6906 - val_loss: 1.4894 - val_accuracy: 0.6834\n",
      "Epoch 3/20\n",
      "15/15 [==============================] - 0s 27ms/step - loss: 1.1224 - accuracy: 0.7673 - val_loss: 1.3709 - val_accuracy: 0.6962\n",
      "Epoch 4/20\n",
      "15/15 [==============================] - 0s 25ms/step - loss: 0.8970 - accuracy: 0.8090 - val_loss: 1.1951 - val_accuracy: 0.7329\n",
      "Epoch 5/20\n",
      "15/15 [==============================] - 0s 33ms/step - loss: 0.7298 - accuracy: 0.8483 - val_loss: 1.1269 - val_accuracy: 0.7457\n",
      "Epoch 6/20\n",
      "15/15 [==============================] - 0s 21ms/step - loss: 0.5984 - accuracy: 0.8749 - val_loss: 1.0671 - val_accuracy: 0.7546\n",
      "Epoch 7/20\n",
      "15/15 [==============================] - 0s 31ms/step - loss: 0.4898 - accuracy: 0.8966 - val_loss: 0.9963 - val_accuracy: 0.7880\n",
      "Epoch 8/20\n",
      "15/15 [==============================] - 0s 22ms/step - loss: 0.4012 - accuracy: 0.9176 - val_loss: 0.9951 - val_accuracy: 0.7858\n",
      "Epoch 9/20\n",
      "15/15 [==============================] - 0s 26ms/step - loss: 0.3308 - accuracy: 0.9301 - val_loss: 1.0384 - val_accuracy: 0.7724\n",
      "Epoch 10/20\n",
      "15/15 [==============================] - 1s 37ms/step - loss: 0.2786 - accuracy: 0.9376 - val_loss: 1.0686 - val_accuracy: 0.7718\n",
      "Epoch 11/20\n",
      "15/15 [==============================] - 1s 28ms/step - loss: 0.2382 - accuracy: 0.9434 - val_loss: 0.9948 - val_accuracy: 0.7980\n",
      "Epoch 12/20\n",
      "15/15 [==============================] - 1s 58ms/step - loss: 0.2061 - accuracy: 0.9505 - val_loss: 1.0312 - val_accuracy: 0.7858\n",
      "Epoch 13/20\n",
      "15/15 [==============================] - 0s 26ms/step - loss: 0.1807 - accuracy: 0.9530 - val_loss: 0.9942 - val_accuracy: 0.7997\n",
      "Epoch 14/20\n",
      "15/15 [==============================] - 0s 19ms/step - loss: 0.1617 - accuracy: 0.9530 - val_loss: 1.1285 - val_accuracy: 0.7802\n",
      "Epoch 15/20\n",
      "15/15 [==============================] - 0s 32ms/step - loss: 0.1507 - accuracy: 0.9550 - val_loss: 1.1077 - val_accuracy: 0.7869\n",
      "Epoch 16/20\n",
      "15/15 [==============================] - 0s 19ms/step - loss: 0.1382 - accuracy: 0.9566 - val_loss: 1.0323 - val_accuracy: 0.7974\n",
      "Epoch 17/20\n",
      "15/15 [==============================] - 0s 20ms/step - loss: 0.1277 - accuracy: 0.9576 - val_loss: 1.0673 - val_accuracy: 0.7986\n",
      "Epoch 18/20\n",
      "15/15 [==============================] - 1s 37ms/step - loss: 0.1223 - accuracy: 0.9578 - val_loss: 1.1890 - val_accuracy: 0.7785\n",
      "Epoch 19/20\n",
      "15/15 [==============================] - 1s 45ms/step - loss: 0.1180 - accuracy: 0.9576 - val_loss: 1.2250 - val_accuracy: 0.7757\n",
      "Epoch 20/20\n",
      "15/15 [==============================] - 0s 26ms/step - loss: 0.1152 - accuracy: 0.9587 - val_loss: 1.2037 - val_accuracy: 0.7885\n"
     ]
    }
   ],
   "source": [
    "input_shape = X_train.shape[1:]\n",
    "output_shape = Y_train.shape[-1]\n",
    "model1 = Sequential()\n",
    "model1.add(Dense(64, activation='relu', input_shape=input_shape))\n",
    "model1.add(Dense(64, activation='relu'))\n",
    "model1.add(Dense(output_shape, activation='softmax'))\n",
    "model1.compile(optimizer='rmsprop', loss='categorical_crossentropy', metrics=['accuracy'])\n",
    "history1 = model1.fit(X_train, Y_train, epochs=20, batch_size=512, validation_data=(X_valid, Y_valid))"
   ]
  },
  {
   "cell_type": "code",
   "execution_count": 39,
   "metadata": {},
   "outputs": [
    {
     "name": "stdout",
     "output_type": "stream",
     "text": [
      "Epoch 1/20\n",
      "15/15 [==============================] - 2s 44ms/step - loss: 2.8983 - accuracy: 0.5141 - val_loss: 1.9803 - val_accuracy: 0.6511\n",
      "Epoch 2/20\n",
      "15/15 [==============================] - 0s 22ms/step - loss: 1.5617 - accuracy: 0.6924 - val_loss: 1.4747 - val_accuracy: 0.6806\n",
      "Epoch 3/20\n",
      "15/15 [==============================] - 1s 40ms/step - loss: 1.1257 - accuracy: 0.7589 - val_loss: 1.2932 - val_accuracy: 0.7307\n",
      "Epoch 4/20\n",
      "15/15 [==============================] - 1s 41ms/step - loss: 0.8965 - accuracy: 0.8135 - val_loss: 1.2206 - val_accuracy: 0.7279\n",
      "Epoch 5/20\n",
      "15/15 [==============================] - 0s 24ms/step - loss: 0.7308 - accuracy: 0.8483 - val_loss: 1.1102 - val_accuracy: 0.7652\n",
      "Epoch 6/20\n",
      "15/15 [==============================] - 0s 20ms/step - loss: 0.5970 - accuracy: 0.8767 - val_loss: 1.0590 - val_accuracy: 0.7713\n",
      "Epoch 7/20\n",
      "15/15 [==============================] - 0s 25ms/step - loss: 0.4886 - accuracy: 0.8985 - val_loss: 1.0132 - val_accuracy: 0.7819\n",
      "Epoch 8/20\n",
      "15/15 [==============================] - 0s 20ms/step - loss: 0.4046 - accuracy: 0.9166 - val_loss: 1.0446 - val_accuracy: 0.7707\n",
      "Epoch 9/20\n",
      "15/15 [==============================] - 0s 22ms/step - loss: 0.3338 - accuracy: 0.9282 - val_loss: 0.9674 - val_accuracy: 0.7958\n",
      "Epoch 10/20\n",
      "15/15 [==============================] - 0s 30ms/step - loss: 0.2856 - accuracy: 0.9370 - val_loss: 0.9863 - val_accuracy: 0.7919\n",
      "Epoch 11/20\n",
      "15/15 [==============================] - 0s 20ms/step - loss: 0.2426 - accuracy: 0.9432 - val_loss: 0.9645 - val_accuracy: 0.8002\n",
      "Epoch 12/20\n",
      "15/15 [==============================] - 0s 22ms/step - loss: 0.2083 - accuracy: 0.9479 - val_loss: 1.0316 - val_accuracy: 0.7846\n",
      "Epoch 13/20\n",
      "15/15 [==============================] - 0s 18ms/step - loss: 0.1852 - accuracy: 0.9510 - val_loss: 0.9884 - val_accuracy: 0.8041\n",
      "Epoch 14/20\n",
      "15/15 [==============================] - 0s 18ms/step - loss: 0.1653 - accuracy: 0.9550 - val_loss: 1.1024 - val_accuracy: 0.7830\n",
      "Epoch 15/20\n",
      "15/15 [==============================] - 0s 19ms/step - loss: 0.1516 - accuracy: 0.9562 - val_loss: 1.0238 - val_accuracy: 0.8019\n",
      "Epoch 16/20\n",
      "15/15 [==============================] - 0s 24ms/step - loss: 0.1404 - accuracy: 0.9564 - val_loss: 1.0214 - val_accuracy: 0.8013\n",
      "Epoch 17/20\n",
      "15/15 [==============================] - 0s 32ms/step - loss: 0.1320 - accuracy: 0.9585 - val_loss: 1.0750 - val_accuracy: 0.8114\n",
      "Epoch 18/20\n",
      "15/15 [==============================] - 0s 22ms/step - loss: 0.1254 - accuracy: 0.9577 - val_loss: 1.1500 - val_accuracy: 0.7874\n",
      "Epoch 19/20\n",
      "15/15 [==============================] - 0s 21ms/step - loss: 0.1176 - accuracy: 0.9606 - val_loss: 1.2270 - val_accuracy: 0.7718\n",
      "Epoch 20/20\n",
      "15/15 [==============================] - 0s 19ms/step - loss: 0.1167 - accuracy: 0.9602 - val_loss: 1.1467 - val_accuracy: 0.7924\n"
     ]
    }
   ],
   "source": [
    "input_shape = X_train.shape[1:]\n",
    "output_shape = Y_train.shape[-1]\n",
    "model2 = Sequential(\n",
    "    [\n",
    "        Dense(64, activation='relu', input_shape=input_shape),\n",
    "        Dense(64, activation='relu'),\n",
    "        Dense(output_shape, activation='softmax'),\n",
    "    ]\n",
    ")\n",
    "model2.compile(optimizer='rmsprop', loss='categorical_crossentropy', metrics=['accuracy'])\n",
    "history2 = model2.fit(X_train, Y_train, epochs=20, batch_size=512, validation_data=(X_valid, Y_valid))"
   ]
  },
  {
   "cell_type": "code",
   "execution_count": 40,
   "metadata": {},
   "outputs": [
    {
     "name": "stdout",
     "output_type": "stream",
     "text": [
      "Epoch 1/20\n",
      "15/15 [==============================] - 1s 35ms/step - loss: 2.9279 - accuracy: 0.4745 - val_loss: 1.9992 - val_accuracy: 0.6144\n",
      "Epoch 2/20\n",
      "15/15 [==============================] - 0s 20ms/step - loss: 1.6141 - accuracy: 0.6711 - val_loss: 1.5228 - val_accuracy: 0.6678\n",
      "Epoch 3/20\n",
      "15/15 [==============================] - 0s 22ms/step - loss: 1.1791 - accuracy: 0.7549 - val_loss: 1.3800 - val_accuracy: 0.6667\n",
      "Epoch 4/20\n",
      "15/15 [==============================] - 0s 21ms/step - loss: 0.9410 - accuracy: 0.8013 - val_loss: 1.2083 - val_accuracy: 0.7373\n",
      "Epoch 5/20\n",
      "15/15 [==============================] - 0s 24ms/step - loss: 0.7593 - accuracy: 0.8433 - val_loss: 1.1718 - val_accuracy: 0.7390\n",
      "Epoch 6/20\n",
      "15/15 [==============================] - 0s 21ms/step - loss: 0.6216 - accuracy: 0.8729 - val_loss: 1.0708 - val_accuracy: 0.7741\n",
      "Epoch 7/20\n",
      "15/15 [==============================] - 0s 23ms/step - loss: 0.5058 - accuracy: 0.8998 - val_loss: 1.0447 - val_accuracy: 0.7713\n",
      "Epoch 8/20\n",
      "15/15 [==============================] - 1s 39ms/step - loss: 0.4212 - accuracy: 0.9148 - val_loss: 1.0849 - val_accuracy: 0.7663\n",
      "Epoch 9/20\n",
      "15/15 [==============================] - 0s 21ms/step - loss: 0.3500 - accuracy: 0.9300 - val_loss: 0.9918 - val_accuracy: 0.7969\n",
      "Epoch 10/20\n",
      "15/15 [==============================] - 0s 19ms/step - loss: 0.2932 - accuracy: 0.9381 - val_loss: 1.1454 - val_accuracy: 0.7641\n",
      "Epoch 11/20\n",
      "15/15 [==============================] - 0s 22ms/step - loss: 0.2572 - accuracy: 0.9424 - val_loss: 1.0300 - val_accuracy: 0.7863\n",
      "Epoch 12/20\n",
      "15/15 [==============================] - 0s 31ms/step - loss: 0.2157 - accuracy: 0.9478 - val_loss: 1.0279 - val_accuracy: 0.7908\n",
      "Epoch 13/20\n",
      "15/15 [==============================] - 0s 19ms/step - loss: 0.1913 - accuracy: 0.9528 - val_loss: 0.9867 - val_accuracy: 0.7980\n",
      "Epoch 14/20\n",
      "15/15 [==============================] - 0s 19ms/step - loss: 0.1733 - accuracy: 0.9543 - val_loss: 1.0381 - val_accuracy: 0.7952\n",
      "Epoch 15/20\n",
      "15/15 [==============================] - 0s 19ms/step - loss: 0.1554 - accuracy: 0.9556 - val_loss: 1.1111 - val_accuracy: 0.7874\n",
      "Epoch 16/20\n",
      "15/15 [==============================] - 0s 19ms/step - loss: 0.1401 - accuracy: 0.9584 - val_loss: 1.0870 - val_accuracy: 0.7874\n",
      "Epoch 17/20\n",
      "15/15 [==============================] - 0s 20ms/step - loss: 0.1367 - accuracy: 0.9578 - val_loss: 1.0391 - val_accuracy: 0.8036\n",
      "Epoch 18/20\n",
      "15/15 [==============================] - 0s 19ms/step - loss: 0.1279 - accuracy: 0.9557 - val_loss: 1.1006 - val_accuracy: 0.8041\n",
      "Epoch 19/20\n",
      "15/15 [==============================] - 1s 39ms/step - loss: 0.1166 - accuracy: 0.9585 - val_loss: 1.1041 - val_accuracy: 0.7958\n",
      "Epoch 20/20\n",
      "15/15 [==============================] - 0s 28ms/step - loss: 0.1144 - accuracy: 0.9578 - val_loss: 1.1103 - val_accuracy: 0.7958\n"
     ]
    }
   ],
   "source": [
    "input_layer = Input(shape=input_shape)\n",
    "layer1 = Dense(64, activation='relu')(input_layer)\n",
    "layer2 = Dense(64, activation='relu')(layer1)\n",
    "output_layer = Dense(output_shape, activation='softmax')(layer2)\n",
    "model3 = Model(input_layer, output_layer)\n",
    "model3.compile(optimizer='rmsprop', loss='categorical_crossentropy', metrics=['accuracy'])\n",
    "history3 = model3.fit(X_train, Y_train, epochs=20, batch_size=512, validation_data=(X_valid, Y_valid))"
   ]
  },
  {
   "cell_type": "code",
   "execution_count": 41,
   "metadata": {},
   "outputs": [
    {
     "name": "stdout",
     "output_type": "stream",
     "text": [
      "71/71 [==============================] - 1s 8ms/step - loss: 1.2462 - accuracy: 0.7818\n"
     ]
    },
    {
     "data": {
      "text/plain": [
       "[1.2462271451950073, 0.7818343639373779]"
      ]
     },
     "execution_count": 41,
     "metadata": {},
     "output_type": "execute_result"
    },
    {
     "name": "stdout",
     "output_type": "stream",
     "text": [
      "71/71 [==============================] - 0s 6ms/step - loss: 1.2045 - accuracy: 0.7814\n"
     ]
    },
    {
     "data": {
      "text/plain": [
       "[1.2044777870178223, 0.7813891172409058]"
      ]
     },
     "execution_count": 41,
     "metadata": {},
     "output_type": "execute_result"
    },
    {
     "name": "stdout",
     "output_type": "stream",
     "text": [
      "71/71 [==============================] - 0s 5ms/step - loss: 1.2248 - accuracy: 0.7809\n"
     ]
    },
    {
     "data": {
      "text/plain": [
       "[1.224786400794983, 0.7809438705444336]"
      ]
     },
     "execution_count": 41,
     "metadata": {},
     "output_type": "execute_result"
    }
   ],
   "source": [
    "model1.evaluate(X_test, Y_test)\n",
    "model2.evaluate(X_test, Y_test)\n",
    "model3.evaluate(X_test, Y_test)"
   ]
  },
  {
   "cell_type": "code",
   "execution_count": null,
   "metadata": {},
   "outputs": [],
   "source": [
    "#########################################################"
   ]
  },
  {
   "cell_type": "code",
   "execution_count": 42,
   "metadata": {},
   "outputs": [
    {
     "name": "stderr",
     "output_type": "stream",
     "text": [
      "d:\\Users\\Pringles\\anaconda3\\envs\\hrd\\lib\\site-packages\\tensorflow\\python\\keras\\datasets\\reuters.py:143: VisibleDeprecationWarning: Creating an ndarray from ragged nested sequences (which is a list-or-tuple of lists-or-tuples-or ndarrays with different lengths or shapes) is deprecated. If you meant to do this, you must specify 'dtype=object' when creating the ndarray.\n",
      "  x_train, y_train = np.array(xs[:idx]), np.array(labels[:idx])\n",
      "d:\\Users\\Pringles\\anaconda3\\envs\\hrd\\lib\\site-packages\\tensorflow\\python\\keras\\datasets\\reuters.py:144: VisibleDeprecationWarning: Creating an ndarray from ragged nested sequences (which is a list-or-tuple of lists-or-tuples-or ndarrays with different lengths or shapes) is deprecated. If you meant to do this, you must specify 'dtype=object' when creating the ndarray.\n",
      "  x_test, y_test = np.array(xs[idx:]), np.array(labels[idx:])\n"
     ]
    }
   ],
   "source": [
    "(X_train, Y_train), (X_test, Y_test) = reuters.load_data(num_words=10000)\n",
    "X_train = vectorize_sequences(X_train)\n",
    "X_test = vectorize_sequences(X_test)"
   ]
  },
  {
   "cell_type": "code",
   "execution_count": 47,
   "metadata": {},
   "outputs": [
    {
     "name": "stdout",
     "output_type": "stream",
     "text": [
      "Epoch 1/20\n",
      "18/18 [==============================] - 1s 36ms/step - loss: 2.6401 - accuracy: 0.5197 - val_loss: 1.7619 - val_accuracy: 0.6505\n",
      "Epoch 2/20\n",
      "18/18 [==============================] - 0s 19ms/step - loss: 1.4026 - accuracy: 0.7050 - val_loss: 1.3142 - val_accuracy: 0.7088\n",
      "Epoch 3/20\n",
      "18/18 [==============================] - 0s 23ms/step - loss: 1.0180 - accuracy: 0.7826 - val_loss: 1.1438 - val_accuracy: 0.7480\n",
      "Epoch 4/20\n",
      "18/18 [==============================] - 0s 25ms/step - loss: 0.7955 - accuracy: 0.8308 - val_loss: 1.0598 - val_accuracy: 0.7631\n",
      "Epoch 5/20\n",
      "18/18 [==============================] - 0s 23ms/step - loss: 0.6336 - accuracy: 0.8705 - val_loss: 0.9894 - val_accuracy: 0.7818\n",
      "Epoch 6/20\n",
      "18/18 [==============================] - 0s 26ms/step - loss: 0.5095 - accuracy: 0.8939 - val_loss: 0.9510 - val_accuracy: 0.7912\n",
      "Epoch 7/20\n",
      "18/18 [==============================] - 0s 20ms/step - loss: 0.4109 - accuracy: 0.9126 - val_loss: 0.9445 - val_accuracy: 0.7881\n",
      "Epoch 8/20\n",
      "18/18 [==============================] - 0s 19ms/step - loss: 0.3351 - accuracy: 0.9274 - val_loss: 0.9445 - val_accuracy: 0.7925\n",
      "Epoch 9/20\n",
      "18/18 [==============================] - 0s 21ms/step - loss: 0.2819 - accuracy: 0.9382 - val_loss: 0.9496 - val_accuracy: 0.7921\n",
      "Epoch 10/20\n",
      "18/18 [==============================] - 0s 25ms/step - loss: 0.2396 - accuracy: 0.9440 - val_loss: 0.9613 - val_accuracy: 0.7979\n",
      "Epoch 11/20\n",
      "18/18 [==============================] - 0s 19ms/step - loss: 0.2082 - accuracy: 0.9481 - val_loss: 1.0029 - val_accuracy: 0.7916\n",
      "Epoch 12/20\n",
      "18/18 [==============================] - 0s 19ms/step - loss: 0.1834 - accuracy: 0.9511 - val_loss: 1.0094 - val_accuracy: 0.7947\n",
      "Epoch 13/20\n",
      "18/18 [==============================] - 0s 21ms/step - loss: 0.1677 - accuracy: 0.9509 - val_loss: 1.0195 - val_accuracy: 0.8001\n",
      "Epoch 14/20\n",
      "18/18 [==============================] - 0s 21ms/step - loss: 0.1546 - accuracy: 0.9547 - val_loss: 1.0722 - val_accuracy: 0.7930\n",
      "Epoch 15/20\n",
      "18/18 [==============================] - 0s 21ms/step - loss: 0.1416 - accuracy: 0.9546 - val_loss: 1.0949 - val_accuracy: 0.7898\n",
      "Epoch 16/20\n",
      "18/18 [==============================] - 0s 22ms/step - loss: 0.1355 - accuracy: 0.9526 - val_loss: 1.1419 - val_accuracy: 0.7858\n",
      "Epoch 17/20\n",
      "18/18 [==============================] - 0s 24ms/step - loss: 0.1265 - accuracy: 0.9558 - val_loss: 1.0984 - val_accuracy: 0.8001\n",
      "Epoch 18/20\n",
      "18/18 [==============================] - 0s 19ms/step - loss: 0.1240 - accuracy: 0.9560 - val_loss: 1.1325 - val_accuracy: 0.7996\n",
      "Epoch 19/20\n",
      "18/18 [==============================] - 0s 18ms/step - loss: 0.1208 - accuracy: 0.9548 - val_loss: 1.1931 - val_accuracy: 0.7947\n",
      "Epoch 20/20\n",
      "18/18 [==============================] - 0s 18ms/step - loss: 0.1130 - accuracy: 0.9565 - val_loss: 1.2178 - val_accuracy: 0.7854\n"
     ]
    }
   ],
   "source": [
    "input_shape = X_train.shape[1:]\n",
    "output_shape = np.unique(Y_train).size\n",
    "input_layer = Dense(64, activation='relu', input_shape=input_shape)\n",
    "layer1 = Dense(64, activation='relu')\n",
    "output_layer = Dense(output_shape, activation='softmax')\n",
    "model = Sequential(\n",
    "    [\n",
    "        input_layer,\n",
    "        layer1,\n",
    "        output_layer\n",
    "    ]\n",
    ")\n",
    "model.compile(optimizer='rmsprop', loss='sparse_categorical_crossentropy', metrics=['accuracy'])\n",
    "history = model.fit(X_train, Y_train, epochs=20, batch_size=512, validation_data=(X_test, Y_test))"
   ]
  },
  {
   "cell_type": "code",
   "execution_count": 48,
   "metadata": {},
   "outputs": [
    {
     "name": "stdout",
     "output_type": "stream",
     "text": [
      "71/71 [==============================] - 0s 5ms/step - loss: 1.2178 - accuracy: 0.7854\n"
     ]
    },
    {
     "data": {
      "text/plain": [
       "[1.2177807092666626, 0.7853962779045105]"
      ]
     },
     "execution_count": 48,
     "metadata": {},
     "output_type": "execute_result"
    }
   ],
   "source": [
    "model.evaluate(X_test, Y_test)"
   ]
  },
  {
   "cell_type": "code",
   "execution_count": null,
   "metadata": {},
   "outputs": [],
   "source": [
    "########################################"
   ]
  },
  {
   "cell_type": "code",
   "execution_count": null,
   "metadata": {},
   "outputs": [],
   "source": []
  },
  {
   "cell_type": "code",
   "execution_count": null,
   "metadata": {},
   "outputs": [],
   "source": []
  },
  {
   "cell_type": "code",
   "execution_count": null,
   "metadata": {},
   "outputs": [],
   "source": []
  },
  {
   "cell_type": "code",
   "execution_count": null,
   "metadata": {},
   "outputs": [],
   "source": []
  },
  {
   "cell_type": "code",
   "execution_count": null,
   "metadata": {},
   "outputs": [],
   "source": []
  },
  {
   "cell_type": "code",
   "execution_count": null,
   "metadata": {},
   "outputs": [],
   "source": []
  },
  {
   "cell_type": "code",
   "execution_count": null,
   "metadata": {},
   "outputs": [],
   "source": []
  },
  {
   "cell_type": "code",
   "execution_count": null,
   "metadata": {},
   "outputs": [],
   "source": []
  },
  {
   "cell_type": "code",
   "execution_count": null,
   "metadata": {},
   "outputs": [],
   "source": []
  },
  {
   "cell_type": "code",
   "execution_count": null,
   "metadata": {},
   "outputs": [],
   "source": []
  },
  {
   "cell_type": "code",
   "execution_count": null,
   "metadata": {},
   "outputs": [],
   "source": []
  },
  {
   "cell_type": "code",
   "execution_count": null,
   "metadata": {},
   "outputs": [],
   "source": []
  },
  {
   "cell_type": "code",
   "execution_count": null,
   "metadata": {},
   "outputs": [],
   "source": []
  },
  {
   "cell_type": "code",
   "execution_count": null,
   "metadata": {},
   "outputs": [],
   "source": []
  },
  {
   "cell_type": "code",
   "execution_count": null,
   "metadata": {},
   "outputs": [],
   "source": []
  },
  {
   "cell_type": "code",
   "execution_count": null,
   "metadata": {},
   "outputs": [],
   "source": []
  },
  {
   "cell_type": "code",
   "execution_count": null,
   "metadata": {},
   "outputs": [],
   "source": []
  }
 ],
 "metadata": {
  "kernelspec": {
   "display_name": "Python 3.8.0 ('hrd')",
   "language": "python",
   "name": "python3"
  },
  "language_info": {
   "codemirror_mode": {
    "name": "ipython",
    "version": 3
   },
   "file_extension": ".py",
   "mimetype": "text/x-python",
   "name": "python",
   "nbconvert_exporter": "python",
   "pygments_lexer": "ipython3",
   "version": "3.8.0"
  },
  "orig_nbformat": 4,
  "vscode": {
   "interpreter": {
    "hash": "0c2e67704c6d152f142b8c3106687cd2194e93bf9cff81b34c8c3689f569f836"
   }
  }
 },
 "nbformat": 4,
 "nbformat_minor": 2
}
