{
 "cells": [
  {
   "cell_type": "code",
   "execution_count": 1,
   "metadata": {},
   "outputs": [],
   "source": [
    "import numpy as np"
   ]
  },
  {
   "cell_type": "code",
   "execution_count": 41,
   "metadata": {},
   "outputs": [],
   "source": [
    "# and\n",
    "w = np.array([0.5, 0.5])\n",
    "b = np.array([0.6])\n",
    "w = w.reshape(2, 1)\n",
    "\n",
    "np.save('w.npy', w)\n",
    "np.save('b.npy', b)\n",
    "\n",
    "w1 = np.load('w.npy')\n",
    "b1 = np.load('b.npy')"
   ]
  },
  {
   "cell_type": "code",
   "execution_count": 40,
   "metadata": {},
   "outputs": [],
   "source": [
    "# nand\n",
    "w2 = np.array([[-0.5], [-0.5]])\n",
    "# b2 = np.array([-0.6])\n",
    "b2 = np.array([0.6])"
   ]
  },
  {
   "cell_type": "code",
   "execution_count": 39,
   "metadata": {},
   "outputs": [],
   "source": [
    "# or\n",
    "w3 = np.array([[0.5], [0.5]])\n",
    "b3 = np.array([0.4])"
   ]
  },
  {
   "cell_type": "code",
   "execution_count": 22,
   "metadata": {},
   "outputs": [],
   "source": [
    "x1 = np.array([True, True, False, False])\n",
    "x2 = np.array([True, False, True, False])\n",
    "X = np.c_[x1, x2]\n",
    "X = X.astype(int)\n",
    "\n",
    "y_and = np.array(x1 & x2).reshape(-1, 1)\n",
    "y_and = y_and.astype(int)\n",
    "\n",
    "y_or = np.array(x1 | x2).reshape(-1, 1)\n",
    "y_or = y_or.astype(int)\n",
    "\n",
    "y_nand = np.array(~x1 | ~x2).reshape(-1, 1)\n",
    "y_nand = y_nand.astype(int)\n",
    "\n",
    "# x1 = 0\n",
    "# x2 = 0\n",
    "# X = np.c_[x1, x2]\n",
    "\n",
    "# def and_predict(x1, x2, w1, w2, b):\n",
    "def and_predict(x1, x2):\n",
    "    X = np.c_[x1, x2]\n",
    "    result = np.dot(X, w1) + b1\n",
    "    if result >= 0:\n",
    "        return 1\n",
    "    else:\n",
    "        return 0\n",
    "\n",
    "def nand_predict(x1, x2):\n",
    "    X = np.c_[x1, x2]\n",
    "    # result = np.dot(X, w2) - b2\n",
    "    result = np.dot(X, w2) + b2\n",
    "    if result >= 0:\n",
    "        return 1\n",
    "    else:\n",
    "        return 0\n",
    "\n",
    "def or_predict(x1, x2):\n",
    "    X = np.c_[x1, x2]\n",
    "    result = np.dot(X, w3) - b3\n",
    "    if result >= 0:\n",
    "        return 1\n",
    "    else:\n",
    "        return 0\n",
    "\n",
    "def xor_predict(x1, x2):\n",
    "    or_layer = or_predict(x1, x2)\n",
    "    nand_layer = nand_predict(x1, x2)\n",
    "    # X = np.c_[or_layer, nand_layer]\n",
    "    result = and_predict(nand_layer, or_layer)\n",
    "    return result\n",
    "    # result = np.dot(X, w1) - b1\n",
    "    # if result >= 0:\n",
    "    #     return 1\n",
    "    # else:\n",
    "    #     return 0"
   ]
  },
  {
   "cell_type": "code",
   "execution_count": 43,
   "metadata": {},
   "outputs": [],
   "source": [
    "def step(x):\n",
    "    return np.where(x > 0, 1, 0)\n",
    "\n",
    "def xor_predict(x1, x2):\n",
    "    X = np.c_[x1, x2]\n",
    "    w_layer1 = np.c_[w3, w2]\n",
    "    b_layer1 = np.concatenate([b3, b2])\n",
    "    layer1 = step(np.dot(X, w_layer1) - b_layer1)\n",
    "    layer2 = np.dot(layer1, w1) - b1\n",
    "    result = step(layer2)\n",
    "    return result"
   ]
  },
  {
   "cell_type": "code",
   "execution_count": 58,
   "metadata": {},
   "outputs": [
    {
     "data": {
      "text/plain": [
       "array([[0]])"
      ]
     },
     "execution_count": 58,
     "metadata": {},
     "output_type": "execute_result"
    }
   ],
   "source": [
    "w_1 = np.c_[w3, w2]\n",
    "b_1 = np.concatenate([b3, b2])\n",
    "\n",
    "layers = [(w_1, b_1), (w1, b1)]\n",
    "\n",
    "def predict_xor(x1, x2):\n",
    "    X = np.c_[x1, x2]\n",
    "    w, b = layers[0]\n",
    "    result = np.dot(X, w) - b\n",
    "    result = step(result)\n",
    "    for w, b in layers:\n",
    "        result = np.dot(result, w) - b\n",
    "        result = step(result)\n",
    "    return result\n",
    "        \n",
    "predict_xor(1, 0)\n"
   ]
  },
  {
   "cell_type": "code",
   "execution_count": 99,
   "metadata": {},
   "outputs": [],
   "source": [
    "from sklearn.model_selection import train_test_split\n",
    "from tensorflow.keras.datasets import mnist\n",
    "from tensorflow import keras\n",
    "from tensorflow.keras.models import Sequential\n",
    "from tensorflow.keras.layers import Dense, Flatten\n",
    "from tensorflow.keras.utils import to_categorical\n",
    "import tensorflow\n",
    "# import matplotlib.pyplot as plt\n",
    "import PIL\n",
    "import warnings\n",
    "warnings.filterwarnings('ignore')"
   ]
  },
  {
   "cell_type": "code",
   "execution_count": 124,
   "metadata": {},
   "outputs": [
    {
     "name": "stdout",
     "output_type": "stream",
     "text": [
      "Epoch 1/20\n",
      "118/118 [==============================] - 3s 16ms/step - loss: 3.6154 - accuracy: 0.7829\n",
      "Epoch 2/20\n",
      "118/118 [==============================] - 1s 12ms/step - loss: 0.1956 - accuracy: 0.9424\n",
      "Epoch 3/20\n",
      "118/118 [==============================] - 1s 9ms/step - loss: 0.1171 - accuracy: 0.9642\n",
      "Epoch 4/20\n",
      "118/118 [==============================] - 1s 10ms/step - loss: 0.0760 - accuracy: 0.9770\n",
      "Epoch 5/20\n",
      "118/118 [==============================] - 1s 11ms/step - loss: 0.0539 - accuracy: 0.9837\n",
      "Epoch 6/20\n",
      "118/118 [==============================] - 2s 13ms/step - loss: 0.0369 - accuracy: 0.9888\n",
      "Epoch 7/20\n",
      "118/118 [==============================] - 1s 10ms/step - loss: 0.0267 - accuracy: 0.9920\n",
      "Epoch 8/20\n",
      "118/118 [==============================] - 1s 9ms/step - loss: 0.0163 - accuracy: 0.9954\n",
      "Epoch 9/20\n",
      "118/118 [==============================] - 1s 10ms/step - loss: 0.0122 - accuracy: 0.9966\n",
      "Epoch 10/20\n",
      "118/118 [==============================] - 1s 9ms/step - loss: 0.0084 - accuracy: 0.9983\n",
      "Epoch 11/20\n",
      "118/118 [==============================] - 1s 10ms/step - loss: 0.0054 - accuracy: 0.9990\n",
      "Epoch 12/20\n",
      "118/118 [==============================] - 1s 9ms/step - loss: 0.0066 - accuracy: 0.9986\n",
      "Epoch 13/20\n",
      "118/118 [==============================] - 1s 11ms/step - loss: 0.0112 - accuracy: 0.9965\n",
      "Epoch 14/20\n",
      "118/118 [==============================] - 1s 8ms/step - loss: 0.0204 - accuracy: 0.9931\n",
      "Epoch 15/20\n",
      "118/118 [==============================] - 1s 10ms/step - loss: 0.0367 - accuracy: 0.9886\n",
      "Epoch 16/20\n",
      "118/118 [==============================] - 1s 9ms/step - loss: 0.0187 - accuracy: 0.9936\n",
      "Epoch 17/20\n",
      "118/118 [==============================] - 1s 10ms/step - loss: 0.0157 - accuracy: 0.9955\n",
      "Epoch 18/20\n",
      "118/118 [==============================] - 1s 8ms/step - loss: 0.0059 - accuracy: 0.9984\n",
      "Epoch 19/20\n",
      "118/118 [==============================] - 1s 10ms/step - loss: 0.0044 - accuracy: 0.9990\n",
      "Epoch 20/20\n",
      "118/118 [==============================] - 1s 8ms/step - loss: 0.0025 - accuracy: 0.9994\n"
     ]
    },
    {
     "data": {
      "text/plain": [
       "<tensorflow.python.keras.callbacks.History at 0x23581fd11c0>"
      ]
     },
     "execution_count": 124,
     "metadata": {},
     "output_type": "execute_result"
    }
   ],
   "source": [
    "(X_train, Y_train), (X_test, Y_test) = mnist.load_data()\n",
    "\n",
    "X_train = X_train.reshape(-1, 28*28)\n",
    "X_test = X_test.reshape(-1, 28*28)\n",
    "input_shape = X_train.shape[1:]\n",
    "\n",
    "Y_train = to_categorical(Y_train)\n",
    "Y_test = to_categorical(Y_test)\n",
    "# output_shape = Y_train.shape[1:][0]\n",
    "output_shape = Y_train.shape[1]\n",
    "\n",
    "model = Sequential(\n",
    "    [\n",
    "        # Flatten(input_shape=input_shape),\n",
    "        Dense(1024, activation='relu', input_shape=input_shape),\n",
    "        Dense(512, activation='relu'),\n",
    "        Dense(256, activation='relu'),\n",
    "        Dense(128, activation='relu'),\n",
    "        Dense(64, activation='relu'),\n",
    "        Dense(output_shape, activation='softmax')\n",
    "    ]\n",
    ")\n",
    "model.compile(optimizer='adam', loss='categorical_crossentropy', metrics=['accuracy'])\n",
    "model.fit(X_train, Y_train, epochs=20, batch_size=512)"
   ]
  },
  {
   "cell_type": "code",
   "execution_count": 143,
   "metadata": {},
   "outputs": [
    {
     "name": "stdout",
     "output_type": "stream",
     "text": [
      "2\n",
      "1\n"
     ]
    }
   ],
   "source": [
    "num = 1\n",
    "\n",
    "layers = model.layers\n",
    "wb = []\n",
    "ly = []\n",
    "a = X_test[[num]]\n",
    "for i in layers:\n",
    "    wb.append((i.get_weights()))\n",
    "    tmp = np.dot(a, wb[-1][0]) + wb[-1][1]\n",
    "    ly.append(tmp)\n",
    "    a = tmp\n",
    "print(np.argmax(ly[-1]))\n",
    "\n",
    "print(np.argmax(model.predict(X_test[[num]])))\n",
    "# w1, b1 = layers[1].get_weights()\n",
    "# w2, b2 = layers[2].get_weights()\n",
    "# w3, b3 = layers[3].get_weights()\n",
    "# x = X_test[[0]]\n",
    "# layer1 = np.dot(x, w1) + b1\n",
    "# layer2 = np.dot(layer1, w2) + b2\n",
    "# layer3 = np.dot(layer2, w3) + b3\n",
    "# np.argmax(layer3[0])"
   ]
  },
  {
   "cell_type": "code",
   "execution_count": 302,
   "metadata": {},
   "outputs": [
    {
     "name": "stdout",
     "output_type": "stream",
     "text": [
      "7 7\n"
     ]
    }
   ],
   "source": [
    "def relu(x):\n",
    "    return np.where(x > 0, x, 0)\n",
    "def sigmoid(x):\n",
    "    # return 1 / (1+np.e ^ (-x))\n",
    "    return 1 / (1+np.exp(-x))\n",
    "def softmax(x):\n",
    "    if x.ndim == 1:\n",
    "        e_x = np.exp(x - np.max(x))\n",
    "        return e_x / e_x.sum()\n",
    "    else:\n",
    "        # result = np.zeros_like(x)\n",
    "        result = []\n",
    "        for i in range(x.shape[0]):\n",
    "            # result[i] = np.exp(x[i]) / np.sum(np.exp(x[i]))\n",
    "            e_x = np.exp(x[i] - np.max(x[i]))\n",
    "            result.append(e_x / np.sum(e_x))\n",
    "        result = np.array(result)\n",
    "        return result\n",
    "    # return np.exp(x) / np.sum(np.exp(x))\n",
    "\n",
    "def softmax2(x):\n",
    "    x = (x.T - np.max(x, axis=1)).T\n",
    "    x = (np.exp(x).T / np.sum(np.exp(x), axis=1)).T\n",
    "    return x\n",
    "\n",
    "\n",
    "activation = {'relu': relu, 'sigmoid': sigmoid, 'softmax': softmax}\n",
    "\n",
    "def predict(x):\n",
    "    layers = model.layers\n",
    "    w1, b1 = layers[0].get_weights()\n",
    "    result = np.dot(x, w1) + b1\n",
    "    # result = relu(result)\n",
    "    result = layers[0].activation(result)\n",
    "    for i in layers[1:-1]:\n",
    "        w, b = i.get_weights()\n",
    "        result = np.dot(result, w) + b\n",
    "        # result = relu(result)\n",
    "        result = activation[i.activation.__name__](result)\n",
    "        result = i.activation(result)\n",
    "    result = np.dot(result, layers[-1].get_weights()[0]) + layers[-1].get_weights()[1]\n",
    "    return np.argmax(result)\n",
    "\n",
    "num = 0\n",
    "print(predict(X_test[[num]]), np.argmax(model.predict(X_test[[num]])))\n"
   ]
  },
  {
   "cell_type": "code",
   "execution_count": 285,
   "metadata": {},
   "outputs": [
    {
     "data": {
      "text/plain": [
       "(1, 784)"
      ]
     },
     "execution_count": 285,
     "metadata": {},
     "output_type": "execute_result"
    }
   ],
   "source": [
    "np.ravel(X_train[[0]]).reshape(1, -1).shape"
   ]
  },
  {
   "cell_type": "code",
   "execution_count": 305,
   "metadata": {},
   "outputs": [],
   "source": [
    "def predict(X):\n",
    "    layers = model.layers\n",
    "    # x = np.ravel(X).reshape(1, -1)\n",
    "    x = np.ravel(X).reshape(X.shape[0], -1)\n",
    "    w, b = layers[0].get_weights()\n",
    "    pred = np.dot(x, w) + b\n",
    "    pred = layers[0].activation(pred)\n",
    "    for i in layers[1:-1]:\n",
    "        w, b = i.get_weights()\n",
    "        pred = np.dot(pred, w) + b\n",
    "        pred = i.activation(pred)\n",
    "    w, b = layers[-1].get_weights()\n",
    "    pred = np.dot(pred, w) + b\n",
    "    pred = softmax2(pred)\n",
    "    # return layers[-1].activation, pred\n",
    "    # return np.argmax(pred)\n",
    "    return np.argmax(pred, axis=1)\n",
    "    \n",
    "def predict_2(X):\n",
    "    layers = model.layers\n",
    "    if X.shape[0] == 1:\n",
    "        x = np.ravel(X).reshape(1, -1)\n",
    "        w, b = layers[0].get_weights()\n",
    "        pred = np.dot(x, w) + b\n",
    "        pred = layers[0].activation(pred)\n",
    "        for i in layers[1:-1]:\n",
    "            w, b = i.get_weights()\n",
    "            pred = np.dot(pred, w) + b\n",
    "            pred = i.activation(pred)\n",
    "        w, b = layers[-1].get_weights()\n",
    "        pred = np.dot(pred, w) + b\n",
    "        pred = softmax(pred)\n",
    "        # return layers[-1].activation, pred\n",
    "        # return np.argmax(pred)\n",
    "        return np.argmax(pred, axis=1)\n",
    "    else:\n",
    "        result = []\n",
    "        for i in range(X.shape[0]):\n",
    "            x = np.ravel(X[i]).reshape(1, -1)\n",
    "            result.append(predict(x))\n",
    "        return result"
   ]
  },
  {
   "cell_type": "code",
   "execution_count": 306,
   "metadata": {},
   "outputs": [
    {
     "data": {
      "text/plain": [
       "array([7, 2, 1, 0, 4], dtype=int64)"
      ]
     },
     "execution_count": 306,
     "metadata": {},
     "output_type": "execute_result"
    }
   ],
   "source": [
    "predict(X_test[0:5])"
   ]
  },
  {
   "cell_type": "code",
   "execution_count": 326,
   "metadata": {},
   "outputs": [
    {
     "data": {
      "text/plain": [
       "array([[0.09003057, 0.24472847, 0.66524096],\n",
       "       [0.01786798, 0.00657326, 0.97555875]])"
      ]
     },
     "execution_count": 326,
     "metadata": {},
     "output_type": "execute_result"
    }
   ],
   "source": [
    "x = np.array([[1, 2, 3], [3, 2, 7]])\n",
    "softmax2(x)"
   ]
  },
  {
   "cell_type": "code",
   "execution_count": 26,
   "metadata": {},
   "outputs": [
    {
     "name": "stdout",
     "output_type": "stream",
     "text": [
      "Model: \"sequential_1\"\n",
      "_________________________________________________________________\n",
      "Layer (type)                 Output Shape              Param #   \n",
      "=================================================================\n",
      "layer 0   (784, 100)\n",
      "layer 1   (100, 50)\n",
      "layer 2   (50, 50)\n"
     ]
    }
   ],
   "source": [
    "class Model:\n",
    "    def __init__(self, input_shape, x):\n",
    "        self.model = []\n",
    "        self.input_shape = input_shape\n",
    "        self.x = x\n",
    "        w = np.random.randn(self.input_shape, x)\n",
    "        b = np.random.randn(x)\n",
    "        self.model.append((w, b))\n",
    "\n",
    "    def add(self, x):\n",
    "        self.input = self.model[-1][1].size\n",
    "        w = np.random.randn(self.input, x)\n",
    "        b = np.random.randn(x)\n",
    "        self.model.append((w, b))\n",
    "    \n",
    "    def summary(self):\n",
    "        print('Model: \"sequential_1\"')\n",
    "        print('_________________________________________________________________')\n",
    "        print('Layer (type)                 Output Shape              Param #   ')\n",
    "        print('=================================================================')\n",
    "        for i, j in enumerate(self.model):\n",
    "            print(f'layer {i}   {j[0].shape}')\n",
    "\n",
    "a = Model(784, 100)\n",
    "a.add(50)\n",
    "a.add(50)\n",
    "a.summary()\n"
   ]
  },
  {
   "cell_type": "code",
   "execution_count": 6,
   "metadata": {},
   "outputs": [
    {
     "data": {
      "text/plain": [
       "array([[1, 2, 3],\n",
       "       [3, 2, 0]])"
      ]
     },
     "execution_count": 6,
     "metadata": {},
     "output_type": "execute_result"
    }
   ],
   "source": [
    "from Activation import Activation\n",
    "import numpy as np\n",
    "x = np.array([[1, 2, 3], [3, 2, -7]])\n",
    "b = Activation()\n",
    "b.relu(x)"
   ]
  },
  {
   "cell_type": "code",
   "execution_count": 24,
   "metadata": {},
   "outputs": [
    {
     "name": "stdout",
     "output_type": "stream",
     "text": [
      "Model: \"sequential_1\"\n",
      "_________________________________________________________________\n",
      "Layer (type)                 Output Shape              Param #   \n",
      "=================================================================\n",
      "dense_3 (Dense)              (None, 100)               3100      \n",
      "_________________________________________________________________\n",
      "dense_4 (Dense)              (None, 200)               20200     \n",
      "_________________________________________________________________\n",
      "dense_5 (Dense)              (None, 10)                2010      \n",
      "=================================================================\n",
      "Total params: 25,310\n",
      "Trainable params: 25,310\n",
      "Non-trainable params: 0\n",
      "_________________________________________________________________\n"
     ]
    }
   ],
   "source": [
    "from tensorflow.keras.models import Sequential\n",
    "from tensorflow.keras.layers import Dense\n",
    "\n",
    "model = Sequential()\n",
    "model.add(Dense(100, activation='relu', input_shape=(30, )))\n",
    "model.add(Dense(200, activation='relu'))\n",
    "model.add(Dense(10, activation='softmax'))\n",
    "model.compile()\n",
    "\n",
    "model.layers[0].get_weights()[0].shape\n",
    "model.summary()"
   ]
  }
 ],
 "metadata": {
  "kernelspec": {
   "display_name": "Python 3.8.0 ('hrd')",
   "language": "python",
   "name": "python3"
  },
  "language_info": {
   "codemirror_mode": {
    "name": "ipython",
    "version": 3
   },
   "file_extension": ".py",
   "mimetype": "text/x-python",
   "name": "python",
   "nbconvert_exporter": "python",
   "pygments_lexer": "ipython3",
   "version": "3.8.0"
  },
  "orig_nbformat": 4,
  "vscode": {
   "interpreter": {
    "hash": "0c2e67704c6d152f142b8c3106687cd2194e93bf9cff81b34c8c3689f569f836"
   }
  }
 },
 "nbformat": 4,
 "nbformat_minor": 2
}
